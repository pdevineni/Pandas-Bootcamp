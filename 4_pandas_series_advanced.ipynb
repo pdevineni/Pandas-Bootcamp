{
 "cells": [
  {
   "cell_type": "code",
   "execution_count": 1,
   "metadata": {},
   "outputs": [],
   "source": [
    "!#/usr/bin/python3"
   ]
  },
  {
   "cell_type": "code",
   "execution_count": 2,
   "metadata": {},
   "outputs": [],
   "source": [
    "from IPython.core.interactiveshell import InteractiveShell\n",
    "InteractiveShell.ast_node_interactivity = \"all\""
   ]
  },
  {
   "cell_type": "code",
   "execution_count": 3,
   "metadata": {},
   "outputs": [
    {
     "data": {
      "text/plain": [
       "'1.4.2'"
      ]
     },
     "execution_count": 3,
     "metadata": {},
     "output_type": "execute_result"
    }
   ],
   "source": [
    "import pandas as pd\n",
    "import numpy as np \n",
    "\n",
    "pd.__version__"
   ]
  },
  {
   "cell_type": "code",
   "execution_count": 4,
   "metadata": {},
   "outputs": [],
   "source": [
    "import ssl\n",
    "ssl._create_default_https_context = ssl._create_unverified_context"
   ]
  },
  {
   "cell_type": "code",
   "execution_count": 5,
   "metadata": {},
   "outputs": [
    {
     "name": "stderr",
     "output_type": "stream",
     "text": [
      "/var/folders/wr/xcz5m33x6c95ksqpy1nx49hh0000gn/T/ipykernel_16954/3478693128.py:1: FutureWarning: The squeeze argument has been deprecated and will be removed in a future version. Append .squeeze(\"columns\") to the call to squeeze.\n",
      "\n",
      "\n",
      "  alcohol = pd.read_csv('https://raw.githubusercontent.com/fivethirtyeight/data/master/alcohol-consumption/drinks.csv',\n"
     ]
    }
   ],
   "source": [
    "alcohol = pd.read_csv('https://raw.githubusercontent.com/fivethirtyeight/data/master/alcohol-consumption/drinks.csv', \n",
    "            usecols=['country', 'wine_servings'], index_col='country', squeeze=True)"
   ]
  },
  {
   "cell_type": "code",
   "execution_count": 6,
   "metadata": {},
   "outputs": [
    {
     "data": {
      "text/plain": [
       "pandas.core.series.Series"
      ]
     },
     "execution_count": 6,
     "metadata": {},
     "output_type": "execute_result"
    },
    {
     "data": {
      "text/plain": [
       "country\n",
       "Afghanistan      0\n",
       "Albania         54\n",
       "Algeria         14\n",
       "Andorra        312\n",
       "Angola          45\n",
       "Name: wine_servings, dtype: int64"
      ]
     },
     "execution_count": 6,
     "metadata": {},
     "output_type": "execute_result"
    }
   ],
   "source": [
    "type(alcohol)\n",
    "\n",
    "alcohol.head()"
   ]
  },
  {
   "cell_type": "code",
   "execution_count": 7,
   "metadata": {},
   "outputs": [
    {
     "data": {
      "text/plain": [
       "193"
      ]
     },
     "execution_count": 7,
     "metadata": {},
     "output_type": "execute_result"
    }
   ],
   "source": [
    "# Series sizing with .size, .shape, and len()\n",
    "\n",
    "alcohol.size"
   ]
  },
  {
   "cell_type": "code",
   "execution_count": 8,
   "metadata": {},
   "outputs": [
    {
     "data": {
      "text/plain": [
       "array([  0,  54,  14, 312,  45,  45, 221,  11, 212, 191,   5,  51,   7,\n",
       "         0,  36,  42, 212,   8,  13,   0,   8,   8,  35,  16,   1,  94,\n",
       "         7,   0,   7,  16,   1,   4, 100,   1,   1, 172,   8,   3,   1,\n",
       "         9,  74,  11, 254,   5, 113, 134,   0,   1, 278,   3,  26,   9,\n",
       "         3,   1,   2, 233,   0,  59,   0,   1,  97, 370,  59,   1, 149,\n",
       "       175,  10, 218,  28,   2,   2,  21,   1,   1,   2, 185,  78,   0,\n",
       "         0,   0,   0, 165,   9, 237,   9,  16,   1,  12,   2,   1,   0,\n",
       "         6, 123,  62,  31,   0,   2,   0,  56, 271,   4,   1,   0,   0,\n",
       "         1, 120,   0,   0,  18,   5,  18,   0,   8, 128,  10,   5,   0,\n",
       "         1,   8,   0, 190, 175,   1,   1,   2,   7, 129,   1,   0,  23,\n",
       "        18,   1,  74,  21,   1,  56, 339,   7,   9,  18, 167,  73,   0,\n",
       "        32,  71,  11,  24,   0, 140,   0,   7, 127,  51,   2,  11, 116,\n",
       "       276,   1,   0,  81, 112,   0,   0,   7,   2, 186, 280,  16,   0,\n",
       "         1,  86,   4,  19,   5,   7,  20,   7,  32,   9,   0,  45,   5,\n",
       "       195,   1,  84, 220,   8,  11,   3,   1,   0,   4,   4])"
      ]
     },
     "execution_count": 8,
     "metadata": {},
     "output_type": "execute_result"
    }
   ],
   "source": [
    "alcohol.values"
   ]
  },
  {
   "cell_type": "code",
   "execution_count": 9,
   "metadata": {},
   "outputs": [
    {
     "data": {
      "text/plain": [
       "Index(['Afghanistan', 'Albania', 'Algeria', 'Andorra', 'Angola',\n",
       "       'Antigua & Barbuda', 'Argentina', 'Armenia', 'Australia', 'Austria',\n",
       "       ...\n",
       "       'Tanzania', 'USA', 'Uruguay', 'Uzbekistan', 'Vanuatu', 'Venezuela',\n",
       "       'Vietnam', 'Yemen', 'Zambia', 'Zimbabwe'],\n",
       "      dtype='object', name='country', length=193)"
      ]
     },
     "execution_count": 9,
     "metadata": {},
     "output_type": "execute_result"
    }
   ],
   "source": [
    "alcohol.index"
   ]
  },
  {
   "cell_type": "code",
   "execution_count": 10,
   "metadata": {},
   "outputs": [
    {
     "data": {
      "text/plain": [
       "True"
      ]
     },
     "execution_count": 10,
     "metadata": {},
     "output_type": "execute_result"
    }
   ],
   "source": [
    "alcohol.index.size == alcohol.values.size"
   ]
  },
  {
   "cell_type": "code",
   "execution_count": 11,
   "metadata": {},
   "outputs": [
    {
     "data": {
      "text/plain": [
       "(193,)"
      ]
     },
     "execution_count": 11,
     "metadata": {},
     "output_type": "execute_result"
    }
   ],
   "source": [
    "alcohol.shape\n",
    "# returns a tuple"
   ]
  },
  {
   "cell_type": "code",
   "execution_count": 12,
   "metadata": {},
   "outputs": [
    {
     "data": {
      "text/plain": [
       "193"
      ]
     },
     "execution_count": 12,
     "metadata": {},
     "output_type": "execute_result"
    }
   ],
   "source": [
    "len(alcohol)\n",
    "\n",
    "# len and size are the same for series\n",
    "# size is pandas specific\n",
    "# length is Python built-in"
   ]
  },
  {
   "cell_type": "code",
   "execution_count": 13,
   "metadata": {},
   "outputs": [
    {
     "data": {
      "text/plain": [
       "country\n",
       "Afghanistan      0\n",
       "Albania         54\n",
       "Algeria         14\n",
       "Andorra        312\n",
       "Angola          45\n",
       "Name: wine_servings, dtype: int64"
      ]
     },
     "execution_count": 13,
     "metadata": {},
     "output_type": "execute_result"
    }
   ],
   "source": [
    "# Unique values and Series monotonicity\n",
    "\n",
    "alcohol.head()\n"
   ]
  },
  {
   "cell_type": "code",
   "execution_count": 14,
   "metadata": {},
   "outputs": [
    {
     "data": {
      "text/plain": [
       "False"
      ]
     },
     "execution_count": 14,
     "metadata": {},
     "output_type": "execute_result"
    }
   ],
   "source": [
    "# Unique values and Series monotonicity\n",
    "\n",
    "# checks if the series contains a sequence of unique values\n",
    "\n",
    "alcohol.is_unique"
   ]
  },
  {
   "cell_type": "code",
   "execution_count": 15,
   "metadata": {},
   "outputs": [
    {
     "data": {
      "text/plain": [
       "True"
      ]
     },
     "execution_count": 15,
     "metadata": {},
     "output_type": "execute_result"
    }
   ],
   "source": [
    "# The first five records are a unique sequence of values\n",
    "\n",
    "alcohol.head().is_unique"
   ]
  },
  {
   "cell_type": "code",
   "execution_count": 16,
   "metadata": {},
   "outputs": [
    {
     "data": {
      "text/plain": [
       "79"
      ]
     },
     "execution_count": 16,
     "metadata": {},
     "output_type": "execute_result"
    },
    {
     "data": {
      "text/plain": [
       "79"
      ]
     },
     "execution_count": 16,
     "metadata": {},
     "output_type": "execute_result"
    }
   ],
   "source": [
    "# Count of unique values in the sequence \n",
    "alcohol.nunique()\n",
    "\n",
    "alcohol.nunique(dropna=True)"
   ]
  },
  {
   "cell_type": "code",
   "execution_count": 17,
   "metadata": {},
   "outputs": [
    {
     "data": {
      "text/plain": [
       "True"
      ]
     },
     "execution_count": 17,
     "metadata": {},
     "output_type": "execute_result"
    },
    {
     "data": {
      "text/plain": [
       "True"
      ]
     },
     "execution_count": 17,
     "metadata": {},
     "output_type": "execute_result"
    },
    {
     "data": {
      "text/plain": [
       "True"
      ]
     },
     "execution_count": 17,
     "metadata": {},
     "output_type": "execute_result"
    },
    {
     "data": {
      "text/plain": [
       "False"
      ]
     },
     "execution_count": 17,
     "metadata": {},
     "output_type": "execute_result"
    }
   ],
   "source": [
    "# monotonicity - function preserves a given order\n",
    "# e.g. always increasing or always decreasing \n",
    "\n",
    "pd.Series([1,2,3]).is_monotonic\n",
    "\n",
    "pd.Series([1,2,3,3,3,3,4]).is_monotonic\n",
    "\n",
    "pd.Series([1,2,3,4,55,67,78,100]).is_monotonic\n",
    "\n",
    "pd.Series([1,2,3,5,9,8,99.9]).is_monotonic"
   ]
  },
  {
   "cell_type": "code",
   "execution_count": 18,
   "metadata": {},
   "outputs": [
    {
     "data": {
      "text/plain": [
       "True"
      ]
     },
     "execution_count": 18,
     "metadata": {},
     "output_type": "execute_result"
    },
    {
     "data": {
      "text/plain": [
       "False"
      ]
     },
     "execution_count": 18,
     "metadata": {},
     "output_type": "execute_result"
    }
   ],
   "source": [
    "pd.Series(reversed([1,2,3,3,4,4,10,79,199])).is_monotonic_decreasing\n",
    "\n",
    "pd.Series(reversed([1,2,3,3,4,4,10,79,199])).is_monotonic_increasing"
   ]
  },
  {
   "cell_type": "code",
   "execution_count": 19,
   "metadata": {},
   "outputs": [
    {
     "data": {
      "text/plain": [
       "193"
      ]
     },
     "execution_count": 19,
     "metadata": {},
     "output_type": "execute_result"
    },
    {
     "data": {
      "text/plain": [
       "193"
      ]
     },
     "execution_count": 19,
     "metadata": {},
     "output_type": "execute_result"
    }
   ],
   "source": [
    "# Count - returns only count of non-NA values\n",
    "\n",
    "alcohol.size\n",
    "\n",
    "alcohol.count()"
   ]
  },
  {
   "cell_type": "code",
   "execution_count": 20,
   "metadata": {},
   "outputs": [
    {
     "data": {
      "text/plain": [
       "False"
      ]
     },
     "execution_count": 20,
     "metadata": {},
     "output_type": "execute_result"
    }
   ],
   "source": [
    "alcohol.hasnans "
   ]
  },
  {
   "cell_type": "code",
   "execution_count": 21,
   "metadata": {},
   "outputs": [
    {
     "data": {
      "text/plain": [
       "country\n",
       "Afghanistan    False\n",
       "Albania        False\n",
       "Algeria        False\n",
       "Andorra        False\n",
       "Angola         False\n",
       "               ...  \n",
       "Venezuela      False\n",
       "Vietnam        False\n",
       "Yemen          False\n",
       "Zambia         False\n",
       "Zimbabwe       False\n",
       "Name: wine_servings, Length: 193, dtype: bool"
      ]
     },
     "execution_count": 21,
     "metadata": {},
     "output_type": "execute_result"
    },
    {
     "data": {
      "text/plain": [
       "Series([], Name: wine_servings, dtype: int64)"
      ]
     },
     "execution_count": 21,
     "metadata": {},
     "output_type": "execute_result"
    },
    {
     "data": {
      "text/plain": [
       "Index([], dtype='object', name='country')"
      ]
     },
     "execution_count": 21,
     "metadata": {},
     "output_type": "execute_result"
    }
   ],
   "source": [
    "# Assessing and Counting NAs\n",
    "\n",
    "# Returns boolean value True if value is null\n",
    "\n",
    "alcohol.isnull()\n",
    "\n",
    "# Only countries with missing wine_servings data are selected\n",
    "# Since there are no missing values, no output is displayed\n",
    "\n",
    "alcohol[alcohol.isnull()]\n",
    "\n",
    "alcohol[alcohol.isnull()].index"
   ]
  },
  {
   "cell_type": "code",
   "execution_count": 22,
   "metadata": {},
   "outputs": [
    {
     "data": {
      "text/plain": [
       "pandas.core.indexes.base.Index"
      ]
     },
     "execution_count": 22,
     "metadata": {},
     "output_type": "execute_result"
    },
    {
     "data": {
      "text/plain": [
       "[]"
      ]
     },
     "execution_count": 22,
     "metadata": {},
     "output_type": "execute_result"
    },
    {
     "data": {
      "text/plain": [
       "0"
      ]
     },
     "execution_count": 22,
     "metadata": {},
     "output_type": "execute_result"
    }
   ],
   "source": [
    "type(alcohol[alcohol.isnull()].index)\n",
    "\n",
    "# isolating the nulls\n",
    "# boolean masking \n",
    "# then getting index from boolean masks\n",
    "\n",
    "list(alcohol[alcohol.isnull()].index)\n",
    "\n",
    "len(list(alcohol[alcohol.isnull()].index))\n",
    "\n",
    "# Is there is a non-cumbersome approach for this?"
   ]
  },
  {
   "cell_type": "code",
   "execution_count": 23,
   "metadata": {},
   "outputs": [
    {
     "data": {
      "text/plain": [
       "0"
      ]
     },
     "execution_count": 23,
     "metadata": {},
     "output_type": "execute_result"
    },
    {
     "data": {
      "text/plain": [
       "2"
      ]
     },
     "execution_count": 23,
     "metadata": {},
     "output_type": "execute_result"
    }
   ],
   "source": [
    "# Pandorable solution - Pandas + adorable\n",
    "\n",
    "alcohol.isnull().sum()\n",
    "\n",
    "# Booleans are integers in Python, True = 1 and False=0\n",
    "# Example\n",
    "\n",
    "sum([True, False, True])"
   ]
  },
  {
   "cell_type": "code",
   "execution_count": 24,
   "metadata": {},
   "outputs": [
    {
     "data": {
      "text/plain": [
       "<ufunc 'isnan'>"
      ]
     },
     "execution_count": 24,
     "metadata": {},
     "output_type": "execute_result"
    }
   ],
   "source": [
    "# Another approach\n",
    "\n",
    "# Sequential - apply function to values in a sequence \n",
    "# Veccotrized - apply function to series all at once\n",
    "\n",
    "# ufunc --> Universal function\n",
    "\n",
    "np.isnan\n"
   ]
  },
  {
   "cell_type": "code",
   "execution_count": 25,
   "metadata": {},
   "outputs": [
    {
     "data": {
      "text/plain": [
       "0    False\n",
       "1    False\n",
       "2     True\n",
       "3    False\n",
       "dtype: bool"
      ]
     },
     "execution_count": 25,
     "metadata": {},
     "output_type": "execute_result"
    }
   ],
   "source": [
    "ser = pd.Series(data=[True, False, None, 2], dtype=float)\n",
    "\n",
    "np.isnan(ser)"
   ]
  },
  {
   "cell_type": "code",
   "execution_count": 26,
   "metadata": {},
   "outputs": [
    {
     "data": {
      "text/plain": [
       "0    1.0\n",
       "1    0.0\n",
       "2    NaN\n",
       "3    2.0\n",
       "dtype: float64"
      ]
     },
     "execution_count": 26,
     "metadata": {},
     "output_type": "execute_result"
    }
   ],
   "source": [
    "ser"
   ]
  },
  {
   "cell_type": "code",
   "execution_count": 27,
   "metadata": {},
   "outputs": [
    {
     "data": {
      "text/plain": [
       "0"
      ]
     },
     "execution_count": 27,
     "metadata": {},
     "output_type": "execute_result"
    }
   ],
   "source": [
    "# Pandas has really good interoperability with numpy\n",
    "\n",
    "alcohol[np.isnan].size"
   ]
  },
  {
   "cell_type": "code",
   "execution_count": 28,
   "metadata": {},
   "outputs": [
    {
     "data": {
      "text/plain": [
       "country\n",
       "Afghanistan    True\n",
       "Albania        True\n",
       "Algeria        True\n",
       "Andorra        True\n",
       "Angola         True\n",
       "               ... \n",
       "Venezuela      True\n",
       "Vietnam        True\n",
       "Yemen          True\n",
       "Zambia         True\n",
       "Zimbabwe       True\n",
       "Name: wine_servings, Length: 193, dtype: bool"
      ]
     },
     "execution_count": 28,
     "metadata": {},
     "output_type": "execute_result"
    },
    {
     "data": {
      "text/plain": [
       "country\n",
       "Afghanistan      0\n",
       "Albania         54\n",
       "Algeria         14\n",
       "Andorra        312\n",
       "Angola          45\n",
       "              ... \n",
       "Venezuela        3\n",
       "Vietnam          1\n",
       "Yemen            0\n",
       "Zambia           4\n",
       "Zimbabwe         4\n",
       "Name: wine_servings, Length: 193, dtype: int64"
      ]
     },
     "execution_count": 28,
     "metadata": {},
     "output_type": "execute_result"
    },
    {
     "data": {
      "text/plain": [
       "country\n",
       "Afghanistan      0\n",
       "Albania         54\n",
       "Algeria         14\n",
       "Andorra        312\n",
       "Angola          45\n",
       "              ... \n",
       "Venezuela        3\n",
       "Vietnam          1\n",
       "Yemen            0\n",
       "Zambia           4\n",
       "Zimbabwe         4\n",
       "Name: wine_servings, Length: 193, dtype: int64"
      ]
     },
     "execution_count": 28,
     "metadata": {},
     "output_type": "execute_result"
    }
   ],
   "source": [
    "# notnull() and notna()\n",
    "\n",
    "alcohol.notnull() # --> returns a boolean mask\n",
    "\n",
    "alcohol[alcohol.notnull()] \n",
    "alcohol.loc[alcohol.notnull()]"
   ]
  },
  {
   "cell_type": "code",
   "execution_count": 29,
   "metadata": {},
   "outputs": [
    {
     "data": {
      "text/plain": [
       "0"
      ]
     },
     "execution_count": 29,
     "metadata": {},
     "output_type": "execute_result"
    },
    {
     "data": {
      "text/plain": [
       "0"
      ]
     },
     "execution_count": 29,
     "metadata": {},
     "output_type": "execute_result"
    },
    {
     "data": {
      "text/plain": [
       "193"
      ]
     },
     "execution_count": 29,
     "metadata": {},
     "output_type": "execute_result"
    },
    {
     "data": {
      "text/plain": [
       "193"
      ]
     },
     "execution_count": 29,
     "metadata": {},
     "output_type": "execute_result"
    }
   ],
   "source": [
    "alcohol.isnull().sum()\n",
    "# same as -- in this case\n",
    "alcohol.isna().sum()\n",
    "\n",
    "\n",
    "alcohol.notnull().sum()\n",
    "# same as \n",
    "alcohol.count()\n",
    "# because count() method only cosiders non-NA "
   ]
  },
  {
   "cell_type": "code",
   "execution_count": 30,
   "metadata": {},
   "outputs": [
    {
     "data": {
      "text/plain": [
       "2"
      ]
     },
     "execution_count": 30,
     "metadata": {},
     "output_type": "execute_result"
    },
    {
     "data": {
      "text/plain": [
       "-1"
      ]
     },
     "execution_count": 30,
     "metadata": {},
     "output_type": "execute_result"
    }
   ],
   "source": [
    "# Booleans are literal numbers in Python \n",
    "# True = 1, False = 0 or essentially anything other than 1\n",
    "\n",
    "# Example\n",
    "True + True + False\n",
    "\n",
    "True + True + False - True * 3\n"
   ]
  },
  {
   "cell_type": "code",
   "execution_count": 31,
   "metadata": {},
   "outputs": [
    {
     "data": {
      "text/plain": [
       "(bool, int, object)"
      ]
     },
     "execution_count": 31,
     "metadata": {},
     "output_type": "execute_result"
    }
   ],
   "source": [
    "# mro - method resolution order\n",
    "\n",
    "bool.__mro__"
   ]
  },
  {
   "cell_type": "code",
   "execution_count": 32,
   "metadata": {},
   "outputs": [
    {
     "data": {
      "text/plain": [
       "country\n",
       "Afghanistan      0\n",
       "Albania         54\n",
       "Algeria         14\n",
       "Andorra        312\n",
       "Angola          45\n",
       "Name: wine_servings, dtype: int64"
      ]
     },
     "execution_count": 32,
     "metadata": {},
     "output_type": "execute_result"
    },
    {
     "data": {
      "text/plain": [
       "9544"
      ]
     },
     "execution_count": 32,
     "metadata": {},
     "output_type": "execute_result"
    },
    {
     "data": {
      "text/plain": [
       "2319"
      ]
     },
     "execution_count": 32,
     "metadata": {},
     "output_type": "execute_result"
    }
   ],
   "source": [
    "# Skill Challenge\n",
    "\n",
    "# 1. Isolate the non-null in the alcohol series and assign them to the variable wine_servings\n",
    "\n",
    "wine_servings = alcohol[alcohol.notnull()]\n",
    "wine_servings.head()\n",
    "\n",
    "\n",
    "# 2. What is the total wine consumed by countries in wine_servings?\n",
    "\n",
    "wine_servings.sum()\n",
    "\n",
    "# 3. What is the total wine consumed by countries that consumed less than 100 servings?\n",
    "\n",
    "wine_servings[wine_servings<100].sum()\n",
    "\n"
   ]
  },
  {
   "cell_type": "code",
   "execution_count": 33,
   "metadata": {},
   "outputs": [
    {
     "data": {
      "text/plain": [
       "country\n",
       "Afghanistan      0\n",
       "Albania         54\n",
       "Algeria         14\n",
       "Andorra        312\n",
       "Angola          45\n",
       "              ... \n",
       "Venezuela        3\n",
       "Vietnam          1\n",
       "Yemen            0\n",
       "Zambia           4\n",
       "Zimbabwe         4\n",
       "Name: wine_servings, Length: 193, dtype: int64"
      ]
     },
     "execution_count": 33,
     "metadata": {},
     "output_type": "execute_result"
    }
   ],
   "source": [
    "# dropna() and fillna()\n",
    "\n",
    "# dropna()\n",
    "# excludes nulls, but does so without replacing the original\n",
    "alcohol.dropna()\n",
    "\n",
    "# modifies the original series\n",
    "alcohol.dropna(inplace=True)"
   ]
  },
  {
   "cell_type": "code",
   "execution_count": 34,
   "metadata": {},
   "outputs": [
    {
     "data": {
      "text/plain": [
       "country\n",
       "Afghanistan      0\n",
       "Albania         54\n",
       "Algeria         14\n",
       "Andorra        312\n",
       "Angola          45\n",
       "              ... \n",
       "Venezuela        3\n",
       "Vietnam          1\n",
       "Yemen            0\n",
       "Zambia           4\n",
       "Zimbabwe         4\n",
       "Name: wine_servings, Length: 193, dtype: int64"
      ]
     },
     "execution_count": 34,
     "metadata": {},
     "output_type": "execute_result"
    }
   ],
   "source": [
    "# fillna()\n",
    "\n",
    "# fills NaNs without modifying the original\n",
    "alcohol.fillna(100, inplace=False)\n",
    "\n",
    "# fills NaNs and modifies original\n",
    "# inplace parameters is False by default\n",
    "alcohol.fillna(100, inplace=True)\n"
   ]
  },
  {
   "cell_type": "code",
   "execution_count": 35,
   "metadata": {},
   "outputs": [
    {
     "data": {
      "text/plain": [
       "9544"
      ]
     },
     "execution_count": 35,
     "metadata": {},
     "output_type": "execute_result"
    },
    {
     "data": {
      "text/plain": [
       "193"
      ]
     },
     "execution_count": 35,
     "metadata": {},
     "output_type": "execute_result"
    }
   ],
   "source": [
    "# Descriptive Statistics\n",
    "\n",
    "# Sum of wine servings across all countries \n",
    "alcohol.sum()\n",
    "\n",
    "# Number of non-null rows\n",
    "alcohol.count()"
   ]
  },
  {
   "cell_type": "code",
   "execution_count": 36,
   "metadata": {},
   "outputs": [
    {
     "data": {
      "text/plain": [
       "49.45077720207254"
      ]
     },
     "execution_count": 36,
     "metadata": {},
     "output_type": "execute_result"
    },
    {
     "data": {
      "text/plain": [
       "49.45077720207254"
      ]
     },
     "execution_count": 36,
     "metadata": {},
     "output_type": "execute_result"
    }
   ],
   "source": [
    "# Average or Mean\n",
    "alcohol.sum()/alcohol.count()\n",
    "\n",
    "alcohol.mean()"
   ]
  },
  {
   "cell_type": "code",
   "execution_count": 37,
   "metadata": {},
   "outputs": [
    {
     "data": {
      "text/plain": [
       "8.0"
      ]
     },
     "execution_count": 37,
     "metadata": {},
     "output_type": "execute_result"
    },
    {
     "data": {
      "text/plain": [
       "8.0"
      ]
     },
     "execution_count": 37,
     "metadata": {},
     "output_type": "execute_result"
    }
   ],
   "source": [
    "# Median\n",
    "\n",
    "alcohol.median()\n",
    "\n",
    "alcohol.quantile(q=.5)"
   ]
  },
  {
   "cell_type": "code",
   "execution_count": 38,
   "metadata": {},
   "outputs": [
    {
     "data": {
      "image/png": "[encoded data removed]",
      "text/plain": [
       "<Figure size 432x288 with 1 Axes>"
      ]
     },
     "metadata": {
      "needs_background": "light"
     },
     "output_type": "display_data"
    }
   ],
   "source": [
    "# Skew \n",
    "# Mean is so much higher than median\n",
    "# Wine servings is positively skewed\n",
    "\n",
    "# Indicates that there countries with large values \n",
    "# that skew the distribution to the left \n",
    "\n",
    "alcohol.hist();"
   ]
  },
  {
   "cell_type": "code",
   "execution_count": 39,
   "metadata": {},
   "outputs": [
    {
     "data": {
      "text/plain": [
       "58.0"
      ]
     },
     "execution_count": 39,
     "metadata": {},
     "output_type": "execute_result"
    }
   ],
   "source": [
    "# IQR - the difference between the first and third quartiles\n",
    "\n",
    "iqr = alcohol.quantile(.75) - alcohol.quantile(.25)\n",
    "iqr"
   ]
  },
  {
   "cell_type": "code",
   "execution_count": 40,
   "metadata": {},
   "outputs": [
    {
     "data": {
      "text/plain": [
       "0"
      ]
     },
     "execution_count": 40,
     "metadata": {},
     "output_type": "execute_result"
    },
    {
     "data": {
      "text/plain": [
       "370"
      ]
     },
     "execution_count": 40,
     "metadata": {},
     "output_type": "execute_result"
    }
   ],
   "source": [
    "alcohol.min()\n",
    "alcohol.max()"
   ]
  },
  {
   "cell_type": "code",
   "execution_count": 41,
   "metadata": {},
   "outputs": [
    {
     "data": {
      "text/plain": [
       "79.6975984576301"
      ]
     },
     "execution_count": 41,
     "metadata": {},
     "output_type": "execute_result"
    },
    {
     "data": {
      "text/plain": [
       "6351.707199913643"
      ]
     },
     "execution_count": 41,
     "metadata": {},
     "output_type": "execute_result"
    },
    {
     "data": {
      "text/plain": [
       "False"
      ]
     },
     "execution_count": 41,
     "metadata": {},
     "output_type": "execute_result"
    }
   ],
   "source": [
    "# Std Dev - square root of the variance\n",
    "alcohol.std()\n",
    "\n",
    "# Variance \n",
    "alcohol.var()\n",
    "\n",
    "\n",
    "alcohol.std()**2 == alcohol.var()"
   ]
  },
  {
   "cell_type": "code",
   "execution_count": 42,
   "metadata": {},
   "outputs": [
    {
     "data": {
      "text/plain": [
       "count    193.000000\n",
       "mean      49.450777\n",
       "std       79.697598\n",
       "min        0.000000\n",
       "25%        1.000000\n",
       "50%        8.000000\n",
       "75%       59.000000\n",
       "max      370.000000\n",
       "Name: wine_servings, dtype: float64"
      ]
     },
     "execution_count": 42,
     "metadata": {},
     "output_type": "execute_result"
    }
   ],
   "source": [
    "# All the above could be achieved using\n",
    "# describe() method\n",
    "\n",
    "alcohol.describe()"
   ]
  },
  {
   "cell_type": "code",
   "execution_count": 43,
   "metadata": {},
   "outputs": [
    {
     "data": {
      "text/plain": [
       "count    193.000000\n",
       "mean      49.450777\n",
       "std       79.697598\n",
       "min        0.000000\n",
       "19%        1.000000\n",
       "50%        8.000000\n",
       "79%       83.040000\n",
       "max      370.000000\n",
       "Name: wine_servings, dtype: float64"
      ]
     },
     "execution_count": 43,
     "metadata": {},
     "output_type": "execute_result"
    }
   ],
   "source": [
    "# Statistics of data in that quartile range\n",
    "alcohol.describe(percentiles=[.79,.19])"
   ]
  },
  {
   "cell_type": "code",
   "execution_count": 44,
   "metadata": {},
   "outputs": [
    {
     "data": {
      "text/plain": [
       "count    193.000000\n",
       "mean      49.450777\n",
       "std       79.697598\n",
       "min        0.000000\n",
       "19%        1.000000\n",
       "50%        8.000000\n",
       "79%       83.040000\n",
       "max      370.000000\n",
       "Name: wine_servings, dtype: float64"
      ]
     },
     "execution_count": 44,
     "metadata": {},
     "output_type": "execute_result"
    }
   ],
   "source": [
    "alcohol.describe(percentiles=[.79,.19], include=float, exclude=object)"
   ]
  },
  {
   "cell_type": "code",
   "execution_count": 45,
   "metadata": {},
   "outputs": [
    {
     "data": {
      "text/plain": [
       "0    0\n",
       "Name: wine_servings, dtype: int64"
      ]
     },
     "execution_count": 45,
     "metadata": {},
     "output_type": "execute_result"
    }
   ],
   "source": [
    "# mode - value with highest frequency\n",
    "\n",
    "alcohol.mode()"
   ]
  },
  {
   "cell_type": "code",
   "execution_count": 46,
   "metadata": {},
   "outputs": [
    {
     "data": {
      "text/plain": [
       "25"
      ]
     },
     "execution_count": 46,
     "metadata": {},
     "output_type": "execute_result"
    }
   ],
   "source": [
    "alcohol[alcohol == 1].size"
   ]
  },
  {
   "cell_type": "code",
   "execution_count": 47,
   "metadata": {},
   "outputs": [
    {
     "data": {
      "text/plain": [
       "0      31\n",
       "1      25\n",
       "2       9\n",
       "7       9\n",
       "8       7\n",
       "       ..\n",
       "78      1\n",
       "165     1\n",
       "237     1\n",
       "12      1\n",
       "220     1\n",
       "Name: wine_servings, Length: 79, dtype: int64"
      ]
     },
     "execution_count": 47,
     "metadata": {},
     "output_type": "execute_result"
    },
    {
     "data": {
      "text/plain": [
       "0      31\n",
       "1      25\n",
       "2       9\n",
       "7       9\n",
       "8       7\n",
       "       ..\n",
       "78      1\n",
       "165     1\n",
       "237     1\n",
       "12      1\n",
       "220     1\n",
       "Name: wine_servings, Length: 79, dtype: int64"
      ]
     },
     "execution_count": 47,
     "metadata": {},
     "output_type": "execute_result"
    }
   ],
   "source": [
    "alcohol.value_counts()\n",
    "# same as\n",
    "alcohol.value_counts(sort=True, ascending=False, dropna=True, normalize=False)"
   ]
  },
  {
   "cell_type": "code",
   "execution_count": 48,
   "metadata": {},
   "outputs": [
    {
     "data": {
      "text/plain": [
       "0      0.160622\n",
       "1      0.129534\n",
       "2      0.046632\n",
       "7      0.046632\n",
       "8      0.036269\n",
       "         ...   \n",
       "78     0.005181\n",
       "165    0.005181\n",
       "237    0.005181\n",
       "12     0.005181\n",
       "220    0.005181\n",
       "Name: wine_servings, Length: 79, dtype: float64"
      ]
     },
     "execution_count": 48,
     "metadata": {},
     "output_type": "execute_result"
    }
   ],
   "source": [
    "alcohol.value_counts(normalize=True)\n",
    "# count of values / number of non-null values\n",
    "\n",
    "# Relative frequencies\n",
    "# Value 0 represents 16% of all values\n",
    "# Value 1 represents 12.95% of all values"
   ]
  },
  {
   "cell_type": "code",
   "execution_count": 49,
   "metadata": {},
   "outputs": [
    {
     "data": {
      "text/plain": [
       "'France'"
      ]
     },
     "execution_count": 49,
     "metadata": {},
     "output_type": "execute_result"
    },
    {
     "data": {
      "text/plain": [
       "'France'"
      ]
     },
     "execution_count": 49,
     "metadata": {},
     "output_type": "execute_result"
    },
    {
     "data": {
      "text/plain": [
       "370"
      ]
     },
     "execution_count": 49,
     "metadata": {},
     "output_type": "execute_result"
    },
    {
     "data": {
      "text/plain": [
       "country\n",
       "France    370\n",
       "Name: wine_servings, dtype: int64"
      ]
     },
     "execution_count": 49,
     "metadata": {},
     "output_type": "execute_result"
    }
   ],
   "source": [
    "# idxmax() and idxmin()\n",
    "\n",
    "# Get index of the max value\n",
    "alcohol[alcohol == alcohol.max()].index[0]\n",
    "\n",
    "# same as\n",
    "alcohol.idxmax()\n",
    "\n",
    "# To get the value with the max value\n",
    "alcohol[alcohol.idxmax()]\n",
    "\n",
    "# However the idxmax() returns only the top value \n",
    "# Then\n",
    "alcohol[alcohol == alcohol.max()]\n",
    "\n"
   ]
  },
  {
   "cell_type": "code",
   "execution_count": 50,
   "metadata": {},
   "outputs": [
    {
     "data": {
      "text/plain": [
       "'Afghanistan'"
      ]
     },
     "execution_count": 50,
     "metadata": {},
     "output_type": "execute_result"
    },
    {
     "data": {
      "text/plain": [
       "'Afghanistan'"
      ]
     },
     "execution_count": 50,
     "metadata": {},
     "output_type": "execute_result"
    },
    {
     "data": {
      "text/plain": [
       "country\n",
       "Afghanistan         0\n",
       "Bangladesh          0\n",
       "Bhutan              0\n",
       "Burundi             0\n",
       "North Korea         0\n",
       "Eritrea             0\n",
       "Ethiopia            0\n",
       "India               0\n",
       "Indonesia           0\n",
       "Iran                0\n",
       "Iraq                0\n",
       "Kuwait              0\n",
       "Lesotho             0\n",
       "Libya               0\n",
       "Malaysia            0\n",
       "Maldives            0\n",
       "Marshall Islands    0\n",
       "Mauritania          0\n",
       "Monaco              0\n",
       "Myanmar             0\n",
       "Nepal               0\n",
       "Pakistan            0\n",
       "Rwanda              0\n",
       "San Marino          0\n",
       "Saudi Arabia        0\n",
       "Somalia             0\n",
       "Sri Lanka           0\n",
       "Sudan               0\n",
       "Tajikistan          0\n",
       "Uganda              0\n",
       "Yemen               0\n",
       "Name: wine_servings, dtype: int64"
      ]
     },
     "execution_count": 50,
     "metadata": {},
     "output_type": "execute_result"
    }
   ],
   "source": [
    "# Get index of the min value\n",
    "\n",
    "# Get index of the min value\n",
    "alcohol[alcohol == alcohol.min()].index[0]\n",
    "\n",
    "# same as\n",
    "alcohol.idxmin()\n",
    "\n",
    "# However the idxmin() retuns only the top value when order is sorted\n",
    "alcohol[alcohol == alcohol.min()]"
   ]
  },
  {
   "cell_type": "code",
   "execution_count": 51,
   "metadata": {},
   "outputs": [
    {
     "data": {
      "text/plain": [
       "country\n",
       "Afghanistan           0\n",
       "Burundi               0\n",
       "Myanmar               0\n",
       "Mauritania            0\n",
       "Marshall Islands      0\n",
       "                   ... \n",
       "Denmark             278\n",
       "Switzerland         280\n",
       "Andorra             312\n",
       "Portugal            339\n",
       "France              370\n",
       "Name: wine_servings, Length: 193, dtype: int64"
      ]
     },
     "execution_count": 51,
     "metadata": {},
     "output_type": "execute_result"
    },
    {
     "data": {
      "text/plain": [
       "country\n",
       "France         370\n",
       "Portugal       339\n",
       "Andorra        312\n",
       "Switzerland    280\n",
       "Denmark        278\n",
       "              ... \n",
       "Iran             0\n",
       "Sri Lanka        0\n",
       "Pakistan         0\n",
       "Indonesia        0\n",
       "Afghanistan      0\n",
       "Name: wine_servings, Length: 193, dtype: int64"
      ]
     },
     "execution_count": 51,
     "metadata": {},
     "output_type": "execute_result"
    }
   ],
   "source": [
    "# Sorting with sort_values()\n",
    "\n",
    "alcohol.sort_values()\n",
    "\n",
    "alcohol.sort_values(ascending=False, na_position='last') # Sorts reverse\n"
   ]
  },
  {
   "cell_type": "code",
   "execution_count": 52,
   "metadata": {},
   "outputs": [
    {
     "data": {
      "text/plain": [
       "country\n",
       "France         370\n",
       "Portugal       339\n",
       "Andorra        312\n",
       "Switzerland    280\n",
       "Denmark        278\n",
       "              ... \n",
       "Iran             0\n",
       "Sri Lanka        0\n",
       "Pakistan         0\n",
       "Indonesia        0\n",
       "Afghanistan      0\n",
       "Name: wine_servings, Length: 193, dtype: int64"
      ]
     },
     "execution_count": 52,
     "metadata": {},
     "output_type": "execute_result"
    }
   ],
   "source": [
    "# We can specify the sorting algorithm\n",
    "\n",
    "alcohol.sort_values(ascending=False, na_position='last', kind='quicksort') # mergesort, heapsort"
   ]
  },
  {
   "cell_type": "code",
   "execution_count": 53,
   "metadata": {},
   "outputs": [],
   "source": [
    "# modifies original series without creating a copy\n",
    "alcohol.sort_values(ascending=False, na_position='last', kind='quicksort', inplace=True) "
   ]
  },
  {
   "cell_type": "code",
   "execution_count": 54,
   "metadata": {},
   "outputs": [
    {
     "data": {
      "text/plain": [
       "country\n",
       "France               370\n",
       "Portugal             339\n",
       "Andorra              312\n",
       "Switzerland          280\n",
       "Denmark              278\n",
       "Slovenia             276\n",
       "Luxembourg           271\n",
       "Croatia              254\n",
       "Italy                237\n",
       "Equatorial Guinea    233\n",
       "Name: wine_servings, dtype: int64"
      ]
     },
     "execution_count": 54,
     "metadata": {},
     "output_type": "execute_result"
    },
    {
     "data": {
      "text/plain": [
       "country\n",
       "France               370\n",
       "Portugal             339\n",
       "Andorra              312\n",
       "Switzerland          280\n",
       "Denmark              278\n",
       "Slovenia             276\n",
       "Luxembourg           271\n",
       "Croatia              254\n",
       "Italy                237\n",
       "Equatorial Guinea    233\n",
       "Name: wine_servings, dtype: int64"
      ]
     },
     "execution_count": 54,
     "metadata": {},
     "output_type": "execute_result"
    }
   ],
   "source": [
    "# nlargest() and nsmallest()\n",
    "\n",
    "# Example: get top 10 wine consuming countries\n",
    "\n",
    "alcohol.sort_values(ascending=False)[:10]\n",
    "\n",
    "# Pandorable way\n",
    "alcohol.nlargest(n=10)\n"
   ]
  },
  {
   "cell_type": "code",
   "execution_count": 55,
   "metadata": {},
   "outputs": [
    {
     "data": {
      "text/plain": [
       "country\n",
       "Bhutan        0\n",
       "Eritrea       0\n",
       "Ethiopia      0\n",
       "Burundi       0\n",
       "Bangladesh    0\n",
       "Name: wine_servings, dtype: int64"
      ]
     },
     "execution_count": 55,
     "metadata": {},
     "output_type": "execute_result"
    }
   ],
   "source": [
    "alcohol.nsmallest(5)\n",
    "# better alterative than sorting a series"
   ]
  },
  {
   "cell_type": "code",
   "execution_count": 56,
   "metadata": {},
   "outputs": [
    {
     "data": {
      "text/plain": [
       "country\n",
       "France         370\n",
       "Portugal       339\n",
       "Andorra        312\n",
       "Switzerland    280\n",
       "Denmark        278\n",
       "Name: wine_servings, dtype: int64"
      ]
     },
     "execution_count": 56,
     "metadata": {},
     "output_type": "execute_result"
    }
   ],
   "source": [
    "# Sorting with sort_index()\n",
    "\n",
    "alcohol.head()\n",
    "# Currently series is sorted in descending order"
   ]
  },
  {
   "cell_type": "code",
   "execution_count": 57,
   "metadata": {},
   "outputs": [
    {
     "data": {
      "text/plain": [
       "country\n",
       "Afghanistan      0\n",
       "Albania         54\n",
       "Algeria         14\n",
       "Andorra        312\n",
       "Angola          45\n",
       "              ... \n",
       "Venezuela        3\n",
       "Vietnam          1\n",
       "Yemen            0\n",
       "Zambia           4\n",
       "Zimbabwe         4\n",
       "Name: wine_servings, Length: 193, dtype: int64"
      ]
     },
     "execution_count": 57,
     "metadata": {},
     "output_type": "execute_result"
    },
    {
     "data": {
      "text/plain": [
       "country\n",
       "Zimbabwe         4\n",
       "Zambia           4\n",
       "Yemen            0\n",
       "Vietnam          1\n",
       "Venezuela        3\n",
       "              ... \n",
       "Angola          45\n",
       "Andorra        312\n",
       "Algeria         14\n",
       "Albania         54\n",
       "Afghanistan      0\n",
       "Name: wine_servings, Length: 193, dtype: int64"
      ]
     },
     "execution_count": 57,
     "metadata": {},
     "output_type": "execute_result"
    }
   ],
   "source": [
    "alcohol.sort_index()\n",
    "\n",
    "alcohol.sort_index(ascending=False, na_position='first')"
   ]
  },
  {
   "cell_type": "code",
   "execution_count": 58,
   "metadata": {},
   "outputs": [
    {
     "data": {
      "text/plain": [
       "0"
      ]
     },
     "execution_count": 58,
     "metadata": {},
     "output_type": "execute_result"
    }
   ],
   "source": [
    "alcohol.index.isnull().sum()"
   ]
  },
  {
   "cell_type": "code",
   "execution_count": 59,
   "metadata": {},
   "outputs": [
    {
     "data": {
      "text/plain": [
       "country\n",
       "France         370\n",
       "Portugal       339\n",
       "Andorra        312\n",
       "Switzerland    280\n",
       "Denmark        278\n",
       "Name: wine_servings, dtype: int64"
      ]
     },
     "execution_count": 59,
     "metadata": {},
     "output_type": "execute_result"
    }
   ],
   "source": [
    "alcohol.head()"
   ]
  },
  {
   "cell_type": "code",
   "execution_count": 60,
   "metadata": {},
   "outputs": [],
   "source": [
    "# sort_values() - returns a new series, sorted by values\n",
    "\n",
    "# sort_index() - returns a new series, sorted by index labels\n",
    "\n",
    "# parameters: ascending = True, inplace=False, na_position='last', sort='quicksort'"
   ]
  },
  {
   "cell_type": "code",
   "execution_count": 61,
   "metadata": {},
   "outputs": [
    {
     "data": {
      "text/plain": [
       "country\n",
       "France         370\n",
       "Portugal       339\n",
       "Andorra        312\n",
       "Switzerland    280\n",
       "Denmark        278\n",
       "Name: wine_servings, dtype: int64"
      ]
     },
     "execution_count": 61,
     "metadata": {},
     "output_type": "execute_result"
    },
    {
     "data": {
      "text/plain": [
       "55"
      ]
     },
     "execution_count": 61,
     "metadata": {},
     "output_type": "execute_result"
    },
    {
     "data": {
      "text/plain": [
       "country\n",
       "Bahamas                51\n",
       "Seychelles             51\n",
       "Albania                54\n",
       "Lithuania              56\n",
       "Poland                 56\n",
       "Gabon                  59\n",
       "Estonia                59\n",
       "Latvia                 62\n",
       "St. Lucia              71\n",
       "Russian Federation     73\n",
       "Cook Islands           74\n",
       "Paraguay               74\n",
       "Iceland                78\n",
       "South Africa           81\n",
       "USA                    84\n",
       "Macedonia              86\n",
       "Bulgaria               94\n",
       "Finland                97\n",
       "Canada                100\n",
       "Spain                 112\n",
       "Name: wine_servings, dtype: int64"
      ]
     },
     "execution_count": 61,
     "metadata": {},
     "output_type": "execute_result"
    },
    {
     "data": {
      "text/plain": [
       "count     20.000000\n",
       "mean      73.600000\n",
       "std       17.866169\n",
       "min       51.000000\n",
       "25%       58.250000\n",
       "50%       73.500000\n",
       "75%       84.500000\n",
       "max      112.000000\n",
       "Name: wine_servings, dtype: float64"
      ]
     },
     "execution_count": 61,
     "metadata": {},
     "output_type": "execute_result"
    },
    {
     "data": {
      "text/plain": [
       "73.6"
      ]
     },
     "execution_count": 61,
     "metadata": {},
     "output_type": "execute_result"
    },
    {
     "data": {
      "text/plain": [
       "73.5"
      ]
     },
     "execution_count": 61,
     "metadata": {},
     "output_type": "execute_result"
    },
    {
     "data": {
      "text/plain": [
       "17.866169147301836"
      ]
     },
     "execution_count": 61,
     "metadata": {},
     "output_type": "execute_result"
    }
   ],
   "source": [
    "# Skills Challenge\n",
    "\n",
    "# 1. Select all the countries from alcohol that have more than \n",
    "#    50 wine servings and save them (and the corresponding values)\n",
    "#    in a variable fifty_plus\n",
    "\n",
    "fifty_plus = alcohol[alcohol > 50]\n",
    "fifty_plus.head()\n",
    "fifty_plus.count()\n",
    "\n",
    "# 2. From fifty_plus, choose the countries with the smallest 20 wine\n",
    "#    serving values.\n",
    "\n",
    "fifty_plus.nsmallest(n=20)\n",
    "\n",
    "# 3. Mean, median, and standard deviation of sample from step 2\n",
    "\n",
    "fifty_plus.nsmallest(20).describe()\n",
    "\n",
    "fifty_plus.nsmallest(20).mean()\n",
    "\n",
    "fifty_plus.nsmallest(20).median()\n",
    "\n",
    "fifty_plus.nsmallest(20).std()"
   ]
  },
  {
   "cell_type": "code",
   "execution_count": 62,
   "metadata": {},
   "outputs": [
    {
     "data": {
      "text/plain": [
       "country\n",
       "France         372\n",
       "Portugal       341\n",
       "Andorra        314\n",
       "Switzerland    282\n",
       "Denmark        280\n",
       "              ... \n",
       "Iran             2\n",
       "Sri Lanka        2\n",
       "Pakistan         2\n",
       "Indonesia        2\n",
       "Afghanistan      2\n",
       "Name: wine_servings, Length: 193, dtype: int64"
      ]
     },
     "execution_count": 62,
     "metadata": {},
     "output_type": "execute_result"
    }
   ],
   "source": [
    "# Series Arithemetics and fill_value()\n",
    "\n",
    "# Add 2 to every value - vectorized\n",
    "alcohol + 2"
   ]
  },
  {
   "cell_type": "code",
   "execution_count": 63,
   "metadata": {},
   "outputs": [
    {
     "data": {
      "text/plain": [
       "country\n",
       "Afghanistan      0\n",
       "Albania         54\n",
       "Algeria         14\n",
       "Andorra        312\n",
       "Angola          45\n",
       "Name: wine_servings, dtype: int64"
      ]
     },
     "execution_count": 63,
     "metadata": {},
     "output_type": "execute_result"
    }
   ],
   "source": [
    "alcohol.sort_index(inplace=True)\n",
    "alcohol.head()"
   ]
  },
  {
   "cell_type": "code",
   "execution_count": 64,
   "metadata": {},
   "outputs": [
    {
     "data": {
      "text/plain": [
       "Afghanistan     NaN\n",
       "Albania        60.0\n",
       "Algeria        24.0\n",
       "Andorra         NaN\n",
       "Angola          NaN\n",
       "               ... \n",
       "Venezuela       NaN\n",
       "Vietnam         NaN\n",
       "Yemen           NaN\n",
       "Zambia          NaN\n",
       "Zimbabwe        NaN\n",
       "Length: 193, dtype: float64"
      ]
     },
     "execution_count": 64,
     "metadata": {},
     "output_type": "execute_result"
    }
   ],
   "source": [
    "more_drinks = pd.Series({'Albania': 6, 'Algeria': 10})\n",
    "alcohol + more_drinks\n",
    "# Only gives overlapping index values"
   ]
  },
  {
   "cell_type": "code",
   "execution_count": 65,
   "metadata": {},
   "outputs": [
    {
     "data": {
      "text/plain": [
       "Afghanistan      0.0\n",
       "Albania         60.0\n",
       "Algeria         24.0\n",
       "Andorra        312.0\n",
       "Angola          45.0\n",
       "               ...  \n",
       "Venezuela        3.0\n",
       "Vietnam          1.0\n",
       "Yemen            0.0\n",
       "Zambia           4.0\n",
       "Zimbabwe         4.0\n",
       "Length: 193, dtype: float64"
      ]
     },
     "execution_count": 65,
     "metadata": {},
     "output_type": "execute_result"
    }
   ],
   "source": [
    "# Instead \n",
    "\n",
    "alcohol.add(more_drinks, fill_value=0)\n",
    "# Fills 0 value for NaN values, and merges both Series"
   ]
  },
  {
   "cell_type": "code",
   "execution_count": 66,
   "metadata": {},
   "outputs": [
    {
     "data": {
      "text/plain": [
       "Afghanistan      0.0\n",
       "Albania         48.0\n",
       "Algeria          4.0\n",
       "Andorra        312.0\n",
       "Angola          45.0\n",
       "               ...  \n",
       "Venezuela        3.0\n",
       "Vietnam          1.0\n",
       "Yemen            0.0\n",
       "Zambia           4.0\n",
       "Zimbabwe         4.0\n",
       "Length: 193, dtype: float64"
      ]
     },
     "execution_count": 66,
     "metadata": {},
     "output_type": "execute_result"
    }
   ],
   "source": [
    "alcohol.subtract(more_drinks, fill_value=0)"
   ]
  },
  {
   "cell_type": "code",
   "execution_count": 67,
   "metadata": {},
   "outputs": [
    {
     "data": {
      "text/plain": [
       "Afghanistan      0.0\n",
       "Albania          9.0\n",
       "Algeria          1.4\n",
       "Andorra        312.0\n",
       "Angola          45.0\n",
       "               ...  \n",
       "Venezuela        3.0\n",
       "Vietnam          1.0\n",
       "Yemen            0.0\n",
       "Zambia           4.0\n",
       "Zimbabwe         4.0\n",
       "Length: 193, dtype: float64"
      ]
     },
     "execution_count": 67,
     "metadata": {},
     "output_type": "execute_result"
    }
   ],
   "source": [
    "alcohol.divide(more_drinks, fill_value=1)"
   ]
  },
  {
   "cell_type": "code",
   "execution_count": 68,
   "metadata": {},
   "outputs": [
    {
     "data": {
      "text/plain": [
       "Afghanistan      0.0\n",
       "Albania        324.0\n",
       "Algeria        140.0\n",
       "Andorra        312.0\n",
       "Angola          45.0\n",
       "               ...  \n",
       "Venezuela        3.0\n",
       "Vietnam          1.0\n",
       "Yemen            0.0\n",
       "Zambia           4.0\n",
       "Zimbabwe         4.0\n",
       "Length: 193, dtype: float64"
      ]
     },
     "execution_count": 68,
     "metadata": {},
     "output_type": "execute_result"
    }
   ],
   "source": [
    "alcohol.multiply(more_drinks, fill_value=1)"
   ]
  },
  {
   "cell_type": "code",
   "execution_count": 69,
   "metadata": {},
   "outputs": [
    {
     "data": {
      "text/plain": [
       "6351.707199913643"
      ]
     },
     "execution_count": 69,
     "metadata": {},
     "output_type": "execute_result"
    },
    {
     "data": {
      "text/plain": [
       "6351.707199913643"
      ]
     },
     "execution_count": 69,
     "metadata": {},
     "output_type": "execute_result"
    },
    {
     "data": {
      "text/plain": [
       "79.6975984576301"
      ]
     },
     "execution_count": 69,
     "metadata": {},
     "output_type": "execute_result"
    },
    {
     "data": {
      "text/plain": [
       "79.6975984576301"
      ]
     },
     "execution_count": 69,
     "metadata": {},
     "output_type": "execute_result"
    }
   ],
   "source": [
    "# Variance and Standard Deviation\n",
    "\n",
    "# Variance - average of squared differences from the mean\n",
    "# Std Dev - square root of variance\n",
    "\n",
    "(alcohol.subtract(alcohol.mean())**2).sum()/(alcohol.count()-1)\n",
    "\n",
    "# same as \n",
    "alcohol.var()\n",
    "\n",
    "# Std Dev \n",
    "\n",
    "np.sqrt((alcohol.subtract(alcohol.mean())**2).sum()/(alcohol.count()-1))\n",
    "alcohol.std()\n"
   ]
  },
  {
   "cell_type": "code",
   "execution_count": 70,
   "metadata": {},
   "outputs": [],
   "source": [
    "## Cumulative Operations"
   ]
  },
  {
   "cell_type": "code",
   "execution_count": null,
   "metadata": {},
   "outputs": [],
   "source": []
  }
 ],
 "metadata": {
  "interpreter": {
   "hash": "aee8b7b246df8f9039afb4144a1f6fd8d2ca17a180786b69acc140d282b71a49"
  },
  "kernelspec": {
   "display_name": "Python 3.9.9 64-bit",
   "language": "python",
   "name": "python3"
  },
  "language_info": {
   "codemirror_mode": {
    "name": "ipython",
    "version": 3
   },
   "file_extension": ".py",
   "mimetype": "text/x-python",
   "name": "python",
   "nbconvert_exporter": "python",
   "pygments_lexer": "ipython3",
   "version": "3.9.9"
  },
  "orig_nbformat": 4
 },
 "nbformat": 4,
 "nbformat_minor": 2
}
