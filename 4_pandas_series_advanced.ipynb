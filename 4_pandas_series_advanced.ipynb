{
 "cells": [
  {
   "cell_type": "code",
   "execution_count": 193,
   "metadata": {},
   "outputs": [],
   "source": [
    "!#/usr/bin/python3"
   ]
  },
  {
   "cell_type": "code",
   "execution_count": 194,
   "metadata": {},
   "outputs": [],
   "source": [
    "from IPython.core.interactiveshell import InteractiveShell\n",
    "InteractiveShell.ast_node_interactivity = \"all\""
   ]
  },
  {
   "cell_type": "code",
   "execution_count": 195,
   "metadata": {},
   "outputs": [
    {
     "data": {
      "text/plain": [
       "'1.3.5'"
      ]
     },
     "execution_count": 195,
     "metadata": {},
     "output_type": "execute_result"
    }
   ],
   "source": [
    "import pandas as pd\n",
    "import numpy as np \n",
    "\n",
    "pd.__version__"
   ]
  },
  {
   "cell_type": "code",
   "execution_count": 196,
   "metadata": {},
   "outputs": [],
   "source": [
    "import ssl\n",
    "ssl._create_default_https_context = ssl._create_unverified_context"
   ]
  },
  {
   "cell_type": "code",
   "execution_count": 197,
   "metadata": {},
   "outputs": [],
   "source": [
    "alcohol = pd.read_csv('https://raw.githubusercontent.com/fivethirtyeight/data/master/alcohol-consumption/drinks.csv', \n",
    "            usecols=['country', 'wine_servings'], index_col='country', squeeze=True)\n",
    "\n",
    "alcohol.replace(0, np.nan, inplace=True)"
   ]
  },
  {
   "cell_type": "code",
   "execution_count": 198,
   "metadata": {},
   "outputs": [
    {
     "data": {
      "text/plain": [
       "pandas.core.series.Series"
      ]
     },
     "execution_count": 198,
     "metadata": {},
     "output_type": "execute_result"
    },
    {
     "data": {
      "text/plain": [
       "country\n",
       "Afghanistan      NaN\n",
       "Albania         54.0\n",
       "Algeria         14.0\n",
       "Andorra        312.0\n",
       "Angola          45.0\n",
       "Name: wine_servings, dtype: float64"
      ]
     },
     "execution_count": 198,
     "metadata": {},
     "output_type": "execute_result"
    }
   ],
   "source": [
    "type(alcohol)\n",
    "\n",
    "alcohol.head()"
   ]
  },
  {
   "cell_type": "code",
   "execution_count": 199,
   "metadata": {},
   "outputs": [
    {
     "data": {
      "text/plain": [
       "193"
      ]
     },
     "execution_count": 199,
     "metadata": {},
     "output_type": "execute_result"
    }
   ],
   "source": [
    "# Series sizing with .size, .shape, and len()\n",
    "\n",
    "alcohol.size"
   ]
  },
  {
   "cell_type": "code",
   "execution_count": 200,
   "metadata": {},
   "outputs": [
    {
     "data": {
      "text/plain": [
       "array([ nan,  54.,  14., 312.,  45.,  45., 221.,  11., 212., 191.,   5.,\n",
       "        51.,   7.,  nan,  36.,  42., 212.,   8.,  13.,  nan,   8.,   8.,\n",
       "        35.,  16.,   1.,  94.,   7.,  nan,   7.,  16.,   1.,   4., 100.,\n",
       "         1.,   1., 172.,   8.,   3.,   1.,   9.,  74.,  11., 254.,   5.,\n",
       "       113., 134.,  nan,   1., 278.,   3.,  26.,   9.,   3.,   1.,   2.,\n",
       "       233.,  nan,  59.,  nan,   1.,  97., 370.,  59.,   1., 149., 175.,\n",
       "        10., 218.,  28.,   2.,   2.,  21.,   1.,   1.,   2., 185.,  78.,\n",
       "        nan,  nan,  nan,  nan, 165.,   9., 237.,   9.,  16.,   1.,  12.,\n",
       "         2.,   1.,  nan,   6., 123.,  62.,  31.,  nan,   2.,  nan,  56.,\n",
       "       271.,   4.,   1.,  nan,  nan,   1., 120.,  nan,  nan,  18.,   5.,\n",
       "        18.,  nan,   8., 128.,  10.,   5.,  nan,   1.,   8.,  nan, 190.,\n",
       "       175.,   1.,   1.,   2.,   7., 129.,   1.,  nan,  23.,  18.,   1.,\n",
       "        74.,  21.,   1.,  56., 339.,   7.,   9.,  18., 167.,  73.,  nan,\n",
       "        32.,  71.,  11.,  24.,  nan, 140.,  nan,   7., 127.,  51.,   2.,\n",
       "        11., 116., 276.,   1.,  nan,  81., 112.,  nan,  nan,   7.,   2.,\n",
       "       186., 280.,  16.,  nan,   1.,  86.,   4.,  19.,   5.,   7.,  20.,\n",
       "         7.,  32.,   9.,  nan,  45.,   5., 195.,   1.,  84., 220.,   8.,\n",
       "        11.,   3.,   1.,  nan,   4.,   4.])"
      ]
     },
     "execution_count": 200,
     "metadata": {},
     "output_type": "execute_result"
    }
   ],
   "source": [
    "alcohol.values"
   ]
  },
  {
   "cell_type": "code",
   "execution_count": 201,
   "metadata": {},
   "outputs": [
    {
     "data": {
      "text/plain": [
       "Index(['Afghanistan', 'Albania', 'Algeria', 'Andorra', 'Angola',\n",
       "       'Antigua & Barbuda', 'Argentina', 'Armenia', 'Australia', 'Austria',\n",
       "       ...\n",
       "       'Tanzania', 'USA', 'Uruguay', 'Uzbekistan', 'Vanuatu', 'Venezuela',\n",
       "       'Vietnam', 'Yemen', 'Zambia', 'Zimbabwe'],\n",
       "      dtype='object', name='country', length=193)"
      ]
     },
     "execution_count": 201,
     "metadata": {},
     "output_type": "execute_result"
    }
   ],
   "source": [
    "alcohol.index"
   ]
  },
  {
   "cell_type": "code",
   "execution_count": 202,
   "metadata": {},
   "outputs": [
    {
     "data": {
      "text/plain": [
       "True"
      ]
     },
     "execution_count": 202,
     "metadata": {},
     "output_type": "execute_result"
    }
   ],
   "source": [
    "alcohol.index.size == alcohol.values.size"
   ]
  },
  {
   "cell_type": "code",
   "execution_count": 203,
   "metadata": {},
   "outputs": [
    {
     "data": {
      "text/plain": [
       "(193,)"
      ]
     },
     "execution_count": 203,
     "metadata": {},
     "output_type": "execute_result"
    }
   ],
   "source": [
    "alcohol.shape\n",
    "# returns a tuple"
   ]
  },
  {
   "cell_type": "code",
   "execution_count": 204,
   "metadata": {},
   "outputs": [
    {
     "data": {
      "text/plain": [
       "193"
      ]
     },
     "execution_count": 204,
     "metadata": {},
     "output_type": "execute_result"
    }
   ],
   "source": [
    "len(alcohol)\n",
    "\n",
    "# len and size are the same for series\n",
    "# size is pandas specific\n",
    "# length is Python built-in"
   ]
  },
  {
   "cell_type": "code",
   "execution_count": 205,
   "metadata": {},
   "outputs": [
    {
     "data": {
      "text/plain": [
       "country\n",
       "Afghanistan      NaN\n",
       "Albania         54.0\n",
       "Algeria         14.0\n",
       "Andorra        312.0\n",
       "Angola          45.0\n",
       "Name: wine_servings, dtype: float64"
      ]
     },
     "execution_count": 205,
     "metadata": {},
     "output_type": "execute_result"
    }
   ],
   "source": [
    "# Unique values and Series monotonicity\n",
    "\n",
    "alcohol.head()\n"
   ]
  },
  {
   "cell_type": "code",
   "execution_count": 206,
   "metadata": {},
   "outputs": [
    {
     "data": {
      "text/plain": [
       "False"
      ]
     },
     "execution_count": 206,
     "metadata": {},
     "output_type": "execute_result"
    }
   ],
   "source": [
    "# Unique values and Series monotonicity\n",
    "\n",
    "# checks if the series contains a sequence of unique values\n",
    "\n",
    "alcohol.is_unique"
   ]
  },
  {
   "cell_type": "code",
   "execution_count": 207,
   "metadata": {},
   "outputs": [
    {
     "data": {
      "text/plain": [
       "True"
      ]
     },
     "execution_count": 207,
     "metadata": {},
     "output_type": "execute_result"
    }
   ],
   "source": [
    "# The first five records are a unique sequence of values\n",
    "\n",
    "alcohol.head().is_unique"
   ]
  },
  {
   "cell_type": "code",
   "execution_count": 208,
   "metadata": {},
   "outputs": [
    {
     "data": {
      "text/plain": [
       "78"
      ]
     },
     "execution_count": 208,
     "metadata": {},
     "output_type": "execute_result"
    },
    {
     "data": {
      "text/plain": [
       "78"
      ]
     },
     "execution_count": 208,
     "metadata": {},
     "output_type": "execute_result"
    }
   ],
   "source": [
    "# Count of unique values in the sequence \n",
    "alcohol.nunique()\n",
    "\n",
    "alcohol.nunique(dropna=True)"
   ]
  },
  {
   "cell_type": "code",
   "execution_count": 209,
   "metadata": {},
   "outputs": [
    {
     "data": {
      "text/plain": [
       "True"
      ]
     },
     "execution_count": 209,
     "metadata": {},
     "output_type": "execute_result"
    },
    {
     "data": {
      "text/plain": [
       "True"
      ]
     },
     "execution_count": 209,
     "metadata": {},
     "output_type": "execute_result"
    },
    {
     "data": {
      "text/plain": [
       "True"
      ]
     },
     "execution_count": 209,
     "metadata": {},
     "output_type": "execute_result"
    },
    {
     "data": {
      "text/plain": [
       "False"
      ]
     },
     "execution_count": 209,
     "metadata": {},
     "output_type": "execute_result"
    }
   ],
   "source": [
    "# monotonicity - function preserves a given order\n",
    "# e.g. always increasing or always decreasing \n",
    "\n",
    "pd.Series([1,2,3]).is_monotonic\n",
    "\n",
    "pd.Series([1,2,3,3,3,3,4]).is_monotonic\n",
    "\n",
    "pd.Series([1,2,3,4,55,67,78,100]).is_monotonic\n",
    "\n",
    "pd.Series([1,2,3,5,9,8,99.9]).is_monotonic"
   ]
  },
  {
   "cell_type": "code",
   "execution_count": 210,
   "metadata": {},
   "outputs": [
    {
     "data": {
      "text/plain": [
       "True"
      ]
     },
     "execution_count": 210,
     "metadata": {},
     "output_type": "execute_result"
    },
    {
     "data": {
      "text/plain": [
       "False"
      ]
     },
     "execution_count": 210,
     "metadata": {},
     "output_type": "execute_result"
    }
   ],
   "source": [
    "pd.Series(reversed([1,2,3,3,4,4,10,79,199])).is_monotonic_decreasing\n",
    "\n",
    "pd.Series(reversed([1,2,3,3,4,4,10,79,199])).is_monotonic_increasing"
   ]
  },
  {
   "cell_type": "code",
   "execution_count": 211,
   "metadata": {},
   "outputs": [
    {
     "data": {
      "text/plain": [
       "193"
      ]
     },
     "execution_count": 211,
     "metadata": {},
     "output_type": "execute_result"
    },
    {
     "data": {
      "text/plain": [
       "162"
      ]
     },
     "execution_count": 211,
     "metadata": {},
     "output_type": "execute_result"
    }
   ],
   "source": [
    "# Count - returns only count of non-NA values\n",
    "\n",
    "alcohol.size\n",
    "\n",
    "alcohol.count()"
   ]
  },
  {
   "cell_type": "code",
   "execution_count": 212,
   "metadata": {},
   "outputs": [
    {
     "data": {
      "text/plain": [
       "True"
      ]
     },
     "execution_count": 212,
     "metadata": {},
     "output_type": "execute_result"
    }
   ],
   "source": [
    "alcohol.hasnans "
   ]
  },
  {
   "cell_type": "code",
   "execution_count": 213,
   "metadata": {},
   "outputs": [
    {
     "data": {
      "text/plain": [
       "country\n",
       "Afghanistan     True\n",
       "Albania        False\n",
       "Algeria        False\n",
       "Andorra        False\n",
       "Angola         False\n",
       "               ...  \n",
       "Venezuela      False\n",
       "Vietnam        False\n",
       "Yemen           True\n",
       "Zambia         False\n",
       "Zimbabwe       False\n",
       "Name: wine_servings, Length: 193, dtype: bool"
      ]
     },
     "execution_count": 213,
     "metadata": {},
     "output_type": "execute_result"
    },
    {
     "data": {
      "text/plain": [
       "country\n",
       "Afghanistan        NaN\n",
       "Bangladesh         NaN\n",
       "Bhutan             NaN\n",
       "Burundi            NaN\n",
       "North Korea        NaN\n",
       "Eritrea            NaN\n",
       "Ethiopia           NaN\n",
       "India              NaN\n",
       "Indonesia          NaN\n",
       "Iran               NaN\n",
       "Iraq               NaN\n",
       "Kuwait             NaN\n",
       "Lesotho            NaN\n",
       "Libya              NaN\n",
       "Malaysia           NaN\n",
       "Maldives           NaN\n",
       "Marshall Islands   NaN\n",
       "Mauritania         NaN\n",
       "Monaco             NaN\n",
       "Myanmar            NaN\n",
       "Nepal              NaN\n",
       "Pakistan           NaN\n",
       "Rwanda             NaN\n",
       "San Marino         NaN\n",
       "Saudi Arabia       NaN\n",
       "Somalia            NaN\n",
       "Sri Lanka          NaN\n",
       "Sudan              NaN\n",
       "Tajikistan         NaN\n",
       "Uganda             NaN\n",
       "Yemen              NaN\n",
       "Name: wine_servings, dtype: float64"
      ]
     },
     "execution_count": 213,
     "metadata": {},
     "output_type": "execute_result"
    },
    {
     "data": {
      "text/plain": [
       "Index(['Afghanistan', 'Bangladesh', 'Bhutan', 'Burundi', 'North Korea',\n",
       "       'Eritrea', 'Ethiopia', 'India', 'Indonesia', 'Iran', 'Iraq', 'Kuwait',\n",
       "       'Lesotho', 'Libya', 'Malaysia', 'Maldives', 'Marshall Islands',\n",
       "       'Mauritania', 'Monaco', 'Myanmar', 'Nepal', 'Pakistan', 'Rwanda',\n",
       "       'San Marino', 'Saudi Arabia', 'Somalia', 'Sri Lanka', 'Sudan',\n",
       "       'Tajikistan', 'Uganda', 'Yemen'],\n",
       "      dtype='object', name='country')"
      ]
     },
     "execution_count": 213,
     "metadata": {},
     "output_type": "execute_result"
    }
   ],
   "source": [
    "# Assessing and Counting NAs\n",
    "\n",
    "# Returns boolean value True if value is null\n",
    "\n",
    "alcohol.isnull()\n",
    "\n",
    "# Only countries with missing wine_servings data are selected\n",
    "# Since there are no missing values, no output is displayed\n",
    "\n",
    "alcohol[alcohol.isnull()]\n",
    "\n",
    "alcohol[alcohol.isnull()].index"
   ]
  },
  {
   "cell_type": "code",
   "execution_count": 214,
   "metadata": {},
   "outputs": [
    {
     "data": {
      "text/plain": [
       "pandas.core.indexes.base.Index"
      ]
     },
     "execution_count": 214,
     "metadata": {},
     "output_type": "execute_result"
    },
    {
     "data": {
      "text/plain": [
       "['Afghanistan',\n",
       " 'Bangladesh',\n",
       " 'Bhutan',\n",
       " 'Burundi',\n",
       " 'North Korea',\n",
       " 'Eritrea',\n",
       " 'Ethiopia',\n",
       " 'India',\n",
       " 'Indonesia',\n",
       " 'Iran',\n",
       " 'Iraq',\n",
       " 'Kuwait',\n",
       " 'Lesotho',\n",
       " 'Libya',\n",
       " 'Malaysia',\n",
       " 'Maldives',\n",
       " 'Marshall Islands',\n",
       " 'Mauritania',\n",
       " 'Monaco',\n",
       " 'Myanmar',\n",
       " 'Nepal',\n",
       " 'Pakistan',\n",
       " 'Rwanda',\n",
       " 'San Marino',\n",
       " 'Saudi Arabia',\n",
       " 'Somalia',\n",
       " 'Sri Lanka',\n",
       " 'Sudan',\n",
       " 'Tajikistan',\n",
       " 'Uganda',\n",
       " 'Yemen']"
      ]
     },
     "execution_count": 214,
     "metadata": {},
     "output_type": "execute_result"
    },
    {
     "data": {
      "text/plain": [
       "31"
      ]
     },
     "execution_count": 214,
     "metadata": {},
     "output_type": "execute_result"
    }
   ],
   "source": [
    "type(alcohol[alcohol.isnull()].index)\n",
    "\n",
    "# isolating the nulls\n",
    "# boolean masking \n",
    "# then getting index from boolean masks\n",
    "\n",
    "list(alcohol[alcohol.isnull()].index)\n",
    "\n",
    "len(list(alcohol[alcohol.isnull()].index))\n",
    "\n",
    "# Is there is a non-cumbersome approach for this?"
   ]
  },
  {
   "cell_type": "code",
   "execution_count": 215,
   "metadata": {},
   "outputs": [
    {
     "data": {
      "text/plain": [
       "31"
      ]
     },
     "execution_count": 215,
     "metadata": {},
     "output_type": "execute_result"
    },
    {
     "data": {
      "text/plain": [
       "2"
      ]
     },
     "execution_count": 215,
     "metadata": {},
     "output_type": "execute_result"
    }
   ],
   "source": [
    "# Pandorable solution - Pandas + adorable\n",
    "\n",
    "alcohol.isnull().sum()\n",
    "\n",
    "# Booleans are integers in Python, True = 1 and False=0\n",
    "# Example\n",
    "\n",
    "sum([True, False, True])"
   ]
  },
  {
   "cell_type": "code",
   "execution_count": 216,
   "metadata": {},
   "outputs": [
    {
     "data": {
      "text/plain": [
       "<ufunc 'isnan'>"
      ]
     },
     "execution_count": 216,
     "metadata": {},
     "output_type": "execute_result"
    }
   ],
   "source": [
    "# Another approach\n",
    "\n",
    "# Sequential - apply function to values in a sequence \n",
    "# Veccotrized - apply function to series all at once\n",
    "\n",
    "# ufunc --> Universal function\n",
    "\n",
    "np.isnan\n"
   ]
  },
  {
   "cell_type": "code",
   "execution_count": 217,
   "metadata": {},
   "outputs": [
    {
     "data": {
      "text/plain": [
       "0    False\n",
       "1    False\n",
       "2     True\n",
       "3    False\n",
       "dtype: bool"
      ]
     },
     "execution_count": 217,
     "metadata": {},
     "output_type": "execute_result"
    }
   ],
   "source": [
    "ser = pd.Series(data=[True, False, None, 2], dtype=float)\n",
    "\n",
    "np.isnan(ser)"
   ]
  },
  {
   "cell_type": "code",
   "execution_count": 218,
   "metadata": {},
   "outputs": [
    {
     "data": {
      "text/plain": [
       "0    1.0\n",
       "1    0.0\n",
       "2    NaN\n",
       "3    2.0\n",
       "dtype: float64"
      ]
     },
     "execution_count": 218,
     "metadata": {},
     "output_type": "execute_result"
    }
   ],
   "source": [
    "ser"
   ]
  },
  {
   "cell_type": "code",
   "execution_count": 219,
   "metadata": {},
   "outputs": [
    {
     "data": {
      "text/plain": [
       "31"
      ]
     },
     "execution_count": 219,
     "metadata": {},
     "output_type": "execute_result"
    }
   ],
   "source": [
    "# Pandas has really good interoperability with numpy\n",
    "\n",
    "alcohol[np.isnan].size"
   ]
  },
  {
   "cell_type": "code",
   "execution_count": 220,
   "metadata": {},
   "outputs": [
    {
     "data": {
      "text/plain": [
       "country\n",
       "Afghanistan    False\n",
       "Albania         True\n",
       "Algeria         True\n",
       "Andorra         True\n",
       "Angola          True\n",
       "               ...  \n",
       "Venezuela       True\n",
       "Vietnam         True\n",
       "Yemen          False\n",
       "Zambia          True\n",
       "Zimbabwe        True\n",
       "Name: wine_servings, Length: 193, dtype: bool"
      ]
     },
     "execution_count": 220,
     "metadata": {},
     "output_type": "execute_result"
    },
    {
     "data": {
      "text/plain": [
       "country\n",
       "Albania               54.0\n",
       "Algeria               14.0\n",
       "Andorra              312.0\n",
       "Angola                45.0\n",
       "Antigua & Barbuda     45.0\n",
       "                     ...  \n",
       "Vanuatu               11.0\n",
       "Venezuela              3.0\n",
       "Vietnam                1.0\n",
       "Zambia                 4.0\n",
       "Zimbabwe               4.0\n",
       "Name: wine_servings, Length: 162, dtype: float64"
      ]
     },
     "execution_count": 220,
     "metadata": {},
     "output_type": "execute_result"
    },
    {
     "data": {
      "text/plain": [
       "country\n",
       "Albania               54.0\n",
       "Algeria               14.0\n",
       "Andorra              312.0\n",
       "Angola                45.0\n",
       "Antigua & Barbuda     45.0\n",
       "                     ...  \n",
       "Vanuatu               11.0\n",
       "Venezuela              3.0\n",
       "Vietnam                1.0\n",
       "Zambia                 4.0\n",
       "Zimbabwe               4.0\n",
       "Name: wine_servings, Length: 162, dtype: float64"
      ]
     },
     "execution_count": 220,
     "metadata": {},
     "output_type": "execute_result"
    }
   ],
   "source": [
    "# notnull() and notna()\n",
    "\n",
    "alcohol.notnull() # --> returns a boolean mask\n",
    "\n",
    "alcohol[alcohol.notnull()] \n",
    "alcohol.loc[alcohol.notnull()]"
   ]
  },
  {
   "cell_type": "code",
   "execution_count": 221,
   "metadata": {},
   "outputs": [
    {
     "data": {
      "text/plain": [
       "31"
      ]
     },
     "execution_count": 221,
     "metadata": {},
     "output_type": "execute_result"
    },
    {
     "data": {
      "text/plain": [
       "31"
      ]
     },
     "execution_count": 221,
     "metadata": {},
     "output_type": "execute_result"
    },
    {
     "data": {
      "text/plain": [
       "162"
      ]
     },
     "execution_count": 221,
     "metadata": {},
     "output_type": "execute_result"
    },
    {
     "data": {
      "text/plain": [
       "162"
      ]
     },
     "execution_count": 221,
     "metadata": {},
     "output_type": "execute_result"
    }
   ],
   "source": [
    "alcohol.isnull().sum()\n",
    "# same as -- in this case\n",
    "alcohol.isna().sum()\n",
    "\n",
    "\n",
    "alcohol.notnull().sum()\n",
    "# same as \n",
    "alcohol.count()\n",
    "# because count() method only cosiders non-NA "
   ]
  },
  {
   "cell_type": "code",
   "execution_count": 222,
   "metadata": {},
   "outputs": [
    {
     "data": {
      "text/plain": [
       "2"
      ]
     },
     "execution_count": 222,
     "metadata": {},
     "output_type": "execute_result"
    },
    {
     "data": {
      "text/plain": [
       "-1"
      ]
     },
     "execution_count": 222,
     "metadata": {},
     "output_type": "execute_result"
    }
   ],
   "source": [
    "# Booleans are literal numbers in Python \n",
    "# True = 1, False = 0 or essentially anything other than 1\n",
    "\n",
    "# Example\n",
    "True + True + False\n",
    "\n",
    "True + True + False - True * 3\n"
   ]
  },
  {
   "cell_type": "code",
   "execution_count": 223,
   "metadata": {},
   "outputs": [
    {
     "data": {
      "text/plain": [
       "(bool, int, object)"
      ]
     },
     "execution_count": 223,
     "metadata": {},
     "output_type": "execute_result"
    }
   ],
   "source": [
    "# mro - method resolution order\n",
    "\n",
    "bool.__mro__"
   ]
  },
  {
   "cell_type": "code",
   "execution_count": 224,
   "metadata": {},
   "outputs": [
    {
     "data": {
      "text/plain": [
       "country\n",
       "Albania               54.0\n",
       "Algeria               14.0\n",
       "Andorra              312.0\n",
       "Angola                45.0\n",
       "Antigua & Barbuda     45.0\n",
       "Name: wine_servings, dtype: float64"
      ]
     },
     "execution_count": 224,
     "metadata": {},
     "output_type": "execute_result"
    },
    {
     "data": {
      "text/plain": [
       "9544.0"
      ]
     },
     "execution_count": 224,
     "metadata": {},
     "output_type": "execute_result"
    },
    {
     "data": {
      "text/plain": [
       "2319.0"
      ]
     },
     "execution_count": 224,
     "metadata": {},
     "output_type": "execute_result"
    }
   ],
   "source": [
    "# Skill Challenge\n",
    "\n",
    "# 1. Isolate the non-null in the alcohol series and assign them to the variable wine_servings\n",
    "\n",
    "wine_servings = alcohol[alcohol.notnull()]\n",
    "wine_servings.head()\n",
    "\n",
    "\n",
    "# 2. What is the total wine consumed by countries in wine_servings?\n",
    "\n",
    "wine_servings.sum()\n",
    "\n",
    "# 3. What is the total wine consumed by countries that consumed less than 100 servings?\n",
    "\n",
    "wine_servings[wine_servings<100].sum()\n",
    "\n"
   ]
  },
  {
   "cell_type": "code",
   "execution_count": 225,
   "metadata": {},
   "outputs": [
    {
     "data": {
      "text/plain": [
       "country\n",
       "Albania               54.0\n",
       "Algeria               14.0\n",
       "Andorra              312.0\n",
       "Angola                45.0\n",
       "Antigua & Barbuda     45.0\n",
       "                     ...  \n",
       "Vanuatu               11.0\n",
       "Venezuela              3.0\n",
       "Vietnam                1.0\n",
       "Zambia                 4.0\n",
       "Zimbabwe               4.0\n",
       "Name: wine_servings, Length: 162, dtype: float64"
      ]
     },
     "execution_count": 225,
     "metadata": {},
     "output_type": "execute_result"
    }
   ],
   "source": [
    "# dropna() and fillna()\n",
    "\n",
    "# dropna()\n",
    "# excludes nulls, but does so without replacing the original\n",
    "alcohol.dropna()\n",
    "\n",
    "# modifies the original series\n",
    "alcohol.dropna(inplace=True)"
   ]
  },
  {
   "cell_type": "code",
   "execution_count": 226,
   "metadata": {},
   "outputs": [
    {
     "data": {
      "text/plain": [
       "country\n",
       "Albania               54.0\n",
       "Algeria               14.0\n",
       "Andorra              312.0\n",
       "Angola                45.0\n",
       "Antigua & Barbuda     45.0\n",
       "                     ...  \n",
       "Vanuatu               11.0\n",
       "Venezuela              3.0\n",
       "Vietnam                1.0\n",
       "Zambia                 4.0\n",
       "Zimbabwe               4.0\n",
       "Name: wine_servings, Length: 162, dtype: float64"
      ]
     },
     "execution_count": 226,
     "metadata": {},
     "output_type": "execute_result"
    }
   ],
   "source": [
    "# fillna()\n",
    "\n",
    "# fills NaNs without modifying the original\n",
    "alcohol.fillna(100, inplace=False)\n",
    "\n",
    "# fills NaNs and modifies original\n",
    "# inplace parameters is False by default\n",
    "alcohol.fillna(100, inplace=True)\n"
   ]
  },
  {
   "cell_type": "code",
   "execution_count": 227,
   "metadata": {},
   "outputs": [
    {
     "data": {
      "text/plain": [
       "9544.0"
      ]
     },
     "execution_count": 227,
     "metadata": {},
     "output_type": "execute_result"
    },
    {
     "data": {
      "text/plain": [
       "162"
      ]
     },
     "execution_count": 227,
     "metadata": {},
     "output_type": "execute_result"
    }
   ],
   "source": [
    "# Descriptive Statistics\n",
    "\n",
    "# Sum of wine servings across all countries \n",
    "alcohol.sum()\n",
    "\n",
    "# Number of non-null rows\n",
    "alcohol.count()"
   ]
  },
  {
   "cell_type": "code",
   "execution_count": 228,
   "metadata": {},
   "outputs": [
    {
     "data": {
      "text/plain": [
       "58.91358024691358"
      ]
     },
     "execution_count": 228,
     "metadata": {},
     "output_type": "execute_result"
    },
    {
     "data": {
      "text/plain": [
       "58.91358024691358"
      ]
     },
     "execution_count": 228,
     "metadata": {},
     "output_type": "execute_result"
    }
   ],
   "source": [
    "# Average or Mean\n",
    "alcohol.sum()/alcohol.count()\n",
    "\n",
    "alcohol.mean()"
   ]
  },
  {
   "cell_type": "code",
   "execution_count": 229,
   "metadata": {},
   "outputs": [
    {
     "data": {
      "text/plain": [
       "13.5"
      ]
     },
     "execution_count": 229,
     "metadata": {},
     "output_type": "execute_result"
    },
    {
     "data": {
      "text/plain": [
       "13.5"
      ]
     },
     "execution_count": 229,
     "metadata": {},
     "output_type": "execute_result"
    }
   ],
   "source": [
    "# Median\n",
    "\n",
    "alcohol.median()\n",
    "\n",
    "alcohol.quantile(q=.5)"
   ]
  },
  {
   "cell_type": "code",
   "execution_count": 230,
   "metadata": {},
   "outputs": [
    {
     "data": {
      "image/png": "[encoded data removed]",
      "text/plain": [
       "<Figure size 432x288 with 1 Axes>"
      ]
     },
     "metadata": {
      "needs_background": "light"
     },
     "output_type": "display_data"
    }
   ],
   "source": [
    "# Skew \n",
    "# Mean is so much higher than median\n",
    "# Wine servings is positively skewed\n",
    "\n",
    "# Indicates that there countries with large values \n",
    "# that skew the distribution to the left \n",
    "\n",
    "alcohol.hist();"
   ]
  },
  {
   "cell_type": "code",
   "execution_count": 231,
   "metadata": {},
   "outputs": [
    {
     "data": {
      "text/plain": [
       "79.25"
      ]
     },
     "execution_count": 231,
     "metadata": {},
     "output_type": "execute_result"
    }
   ],
   "source": [
    "# IQR - the difference between the first and third quartiles\n",
    "\n",
    "iqr = alcohol.quantile(.75) - alcohol.quantile(.25)\n",
    "iqr"
   ]
  },
  {
   "cell_type": "code",
   "execution_count": 232,
   "metadata": {},
   "outputs": [
    {
     "data": {
      "text/plain": [
       "1.0"
      ]
     },
     "execution_count": 232,
     "metadata": {},
     "output_type": "execute_result"
    },
    {
     "data": {
      "text/plain": [
       "370.0"
      ]
     },
     "execution_count": 232,
     "metadata": {},
     "output_type": "execute_result"
    }
   ],
   "source": [
    "alcohol.min()\n",
    "alcohol.max()"
   ]
  },
  {
   "cell_type": "code",
   "execution_count": 233,
   "metadata": {},
   "outputs": [
    {
     "data": {
      "text/plain": [
       "83.74817287794488"
      ]
     },
     "execution_count": 233,
     "metadata": {},
     "output_type": "execute_result"
    },
    {
     "data": {
      "text/plain": [
       "7013.756460394142"
      ]
     },
     "execution_count": 233,
     "metadata": {},
     "output_type": "execute_result"
    },
    {
     "data": {
      "text/plain": [
       "False"
      ]
     },
     "execution_count": 233,
     "metadata": {},
     "output_type": "execute_result"
    }
   ],
   "source": [
    "# Std Dev - square root of the variance\n",
    "alcohol.std()\n",
    "\n",
    "# Variance \n",
    "alcohol.var()\n",
    "\n",
    "\n",
    "alcohol.std()**2 == alcohol.var()"
   ]
  },
  {
   "cell_type": "code",
   "execution_count": 234,
   "metadata": {},
   "outputs": [
    {
     "data": {
      "text/plain": [
       "count    162.000000\n",
       "mean      58.913580\n",
       "std       83.748173\n",
       "min        1.000000\n",
       "25%        4.000000\n",
       "50%       13.500000\n",
       "75%       83.250000\n",
       "max      370.000000\n",
       "Name: wine_servings, dtype: float64"
      ]
     },
     "execution_count": 234,
     "metadata": {},
     "output_type": "execute_result"
    }
   ],
   "source": [
    "# All the above could be achieved using\n",
    "# describe() method\n",
    "\n",
    "alcohol.describe()"
   ]
  },
  {
   "cell_type": "code",
   "execution_count": 235,
   "metadata": {},
   "outputs": [
    {
     "data": {
      "text/plain": [
       "count    162.000000\n",
       "mean      58.913580\n",
       "std       83.748173\n",
       "min        1.000000\n",
       "19%        2.000000\n",
       "50%       13.500000\n",
       "79%      113.570000\n",
       "max      370.000000\n",
       "Name: wine_servings, dtype: float64"
      ]
     },
     "execution_count": 235,
     "metadata": {},
     "output_type": "execute_result"
    }
   ],
   "source": [
    "# Statistics of data in that quartile range\n",
    "alcohol.describe(percentiles=[.79,.19])"
   ]
  },
  {
   "cell_type": "code",
   "execution_count": 236,
   "metadata": {},
   "outputs": [
    {
     "data": {
      "text/plain": [
       "count    162.000000\n",
       "mean      58.913580\n",
       "std       83.748173\n",
       "min        1.000000\n",
       "19%        2.000000\n",
       "50%       13.500000\n",
       "79%      113.570000\n",
       "max      370.000000\n",
       "Name: wine_servings, dtype: float64"
      ]
     },
     "execution_count": 236,
     "metadata": {},
     "output_type": "execute_result"
    }
   ],
   "source": [
    "alcohol.describe(percentiles=[.79,.19], include=float, exclude=object)"
   ]
  },
  {
   "cell_type": "code",
   "execution_count": 237,
   "metadata": {},
   "outputs": [
    {
     "data": {
      "text/plain": [
       "0    1.0\n",
       "dtype: float64"
      ]
     },
     "execution_count": 237,
     "metadata": {},
     "output_type": "execute_result"
    }
   ],
   "source": [
    "# mode - value with highest frequency\n",
    "\n",
    "alcohol.mode()"
   ]
  },
  {
   "cell_type": "code",
   "execution_count": 238,
   "metadata": {},
   "outputs": [
    {
     "data": {
      "text/plain": [
       "25"
      ]
     },
     "execution_count": 238,
     "metadata": {},
     "output_type": "execute_result"
    }
   ],
   "source": [
    "alcohol[alcohol == 1].size"
   ]
  },
  {
   "cell_type": "code",
   "execution_count": 239,
   "metadata": {},
   "outputs": [
    {
     "data": {
      "text/plain": [
       "1.0      25\n",
       "7.0       9\n",
       "2.0       9\n",
       "8.0       7\n",
       "9.0       6\n",
       "         ..\n",
       "78.0      1\n",
       "165.0     1\n",
       "237.0     1\n",
       "12.0      1\n",
       "220.0     1\n",
       "Name: wine_servings, Length: 78, dtype: int64"
      ]
     },
     "execution_count": 239,
     "metadata": {},
     "output_type": "execute_result"
    },
    {
     "data": {
      "text/plain": [
       "1.0      25\n",
       "7.0       9\n",
       "2.0       9\n",
       "8.0       7\n",
       "9.0       6\n",
       "         ..\n",
       "78.0      1\n",
       "165.0     1\n",
       "237.0     1\n",
       "12.0      1\n",
       "220.0     1\n",
       "Name: wine_servings, Length: 78, dtype: int64"
      ]
     },
     "execution_count": 239,
     "metadata": {},
     "output_type": "execute_result"
    }
   ],
   "source": [
    "alcohol.value_counts()\n",
    "# same as\n",
    "alcohol.value_counts(sort=True, ascending=False, dropna=True, normalize=False)"
   ]
  },
  {
   "cell_type": "code",
   "execution_count": 240,
   "metadata": {},
   "outputs": [
    {
     "data": {
      "text/plain": [
       "1.0      0.154321\n",
       "7.0      0.055556\n",
       "2.0      0.055556\n",
       "8.0      0.043210\n",
       "9.0      0.037037\n",
       "           ...   \n",
       "78.0     0.006173\n",
       "165.0    0.006173\n",
       "237.0    0.006173\n",
       "12.0     0.006173\n",
       "220.0    0.006173\n",
       "Name: wine_servings, Length: 78, dtype: float64"
      ]
     },
     "execution_count": 240,
     "metadata": {},
     "output_type": "execute_result"
    }
   ],
   "source": [
    "alcohol.value_counts(normalize=True)\n",
    "# count of values / number of non-null values\n",
    "\n",
    "# Relative frequencies\n",
    "# Value 0 represents 16% of all values\n",
    "# Value 1 represents 12.95% of all values"
   ]
  },
  {
   "cell_type": "code",
   "execution_count": 241,
   "metadata": {},
   "outputs": [
    {
     "data": {
      "text/plain": [
       "'France'"
      ]
     },
     "execution_count": 241,
     "metadata": {},
     "output_type": "execute_result"
    },
    {
     "data": {
      "text/plain": [
       "'France'"
      ]
     },
     "execution_count": 241,
     "metadata": {},
     "output_type": "execute_result"
    },
    {
     "data": {
      "text/plain": [
       "370.0"
      ]
     },
     "execution_count": 241,
     "metadata": {},
     "output_type": "execute_result"
    },
    {
     "data": {
      "text/plain": [
       "country\n",
       "France    370.0\n",
       "Name: wine_servings, dtype: float64"
      ]
     },
     "execution_count": 241,
     "metadata": {},
     "output_type": "execute_result"
    }
   ],
   "source": [
    "# idxmax() and idxmin()\n",
    "\n",
    "# Get index of the max value\n",
    "alcohol[alcohol == alcohol.max()].index[0]\n",
    "\n",
    "# same as\n",
    "alcohol.idxmax()\n",
    "\n",
    "# To get the value with the max value\n",
    "alcohol[alcohol.idxmax()]\n",
    "\n",
    "# However the idxmax() returns only the top value \n",
    "# Then\n",
    "alcohol[alcohol == alcohol.max()]\n",
    "\n"
   ]
  },
  {
   "cell_type": "code",
   "execution_count": 242,
   "metadata": {},
   "outputs": [
    {
     "data": {
      "text/plain": [
       "'Brunei'"
      ]
     },
     "execution_count": 242,
     "metadata": {},
     "output_type": "execute_result"
    },
    {
     "data": {
      "text/plain": [
       "'Brunei'"
      ]
     },
     "execution_count": 242,
     "metadata": {},
     "output_type": "execute_result"
    },
    {
     "data": {
      "text/plain": [
       "country\n",
       "Brunei                      1.0\n",
       "Cambodia                    1.0\n",
       "Central African Republic    1.0\n",
       "Chad                        1.0\n",
       "Comoros                     1.0\n",
       "DR Congo                    1.0\n",
       "Egypt                       1.0\n",
       "Fiji                        1.0\n",
       "Gambia                      1.0\n",
       "Guyana                      1.0\n",
       "Haiti                       1.0\n",
       "Jordan                      1.0\n",
       "Kiribati                    1.0\n",
       "Malawi                      1.0\n",
       "Mali                        1.0\n",
       "Namibia                     1.0\n",
       "Nicaragua                   1.0\n",
       "Niger                       1.0\n",
       "Oman                        1.0\n",
       "Papua New Guinea            1.0\n",
       "Philippines                 1.0\n",
       "Solomon Islands             1.0\n",
       "Thailand                    1.0\n",
       "Tanzania                    1.0\n",
       "Vietnam                     1.0\n",
       "Name: wine_servings, dtype: float64"
      ]
     },
     "execution_count": 242,
     "metadata": {},
     "output_type": "execute_result"
    }
   ],
   "source": [
    "# Get index of the min value\n",
    "\n",
    "# Get index of the min value\n",
    "alcohol[alcohol == alcohol.min()].index[0]\n",
    "\n",
    "# same as\n",
    "alcohol.idxmin()\n",
    "\n",
    "# However the idxmin() retuns only the top value when order is sorted\n",
    "alcohol[alcohol == alcohol.min()]"
   ]
  },
  {
   "cell_type": "code",
   "execution_count": 243,
   "metadata": {},
   "outputs": [
    {
     "data": {
      "text/plain": [
       "country\n",
       "Guyana           1.0\n",
       "Comoros          1.0\n",
       "Mali             1.0\n",
       "Malawi           1.0\n",
       "Chad             1.0\n",
       "               ...  \n",
       "Denmark        278.0\n",
       "Switzerland    280.0\n",
       "Andorra        312.0\n",
       "Portugal       339.0\n",
       "France         370.0\n",
       "Name: wine_servings, Length: 162, dtype: float64"
      ]
     },
     "execution_count": 243,
     "metadata": {},
     "output_type": "execute_result"
    },
    {
     "data": {
      "text/plain": [
       "country\n",
       "France              370.0\n",
       "Portugal            339.0\n",
       "Andorra             312.0\n",
       "Switzerland         280.0\n",
       "Denmark             278.0\n",
       "                    ...  \n",
       "Niger                 1.0\n",
       "Cambodia              1.0\n",
       "Oman                  1.0\n",
       "Papua New Guinea      1.0\n",
       "Fiji                  1.0\n",
       "Name: wine_servings, Length: 162, dtype: float64"
      ]
     },
     "execution_count": 243,
     "metadata": {},
     "output_type": "execute_result"
    }
   ],
   "source": [
    "# Sorting with sort_values()\n",
    "\n",
    "alcohol.sort_values()\n",
    "\n",
    "alcohol.sort_values(ascending=False, na_position='last') # Sorts reverse\n"
   ]
  },
  {
   "cell_type": "code",
   "execution_count": 244,
   "metadata": {},
   "outputs": [
    {
     "data": {
      "text/plain": [
       "country\n",
       "France              370.0\n",
       "Portugal            339.0\n",
       "Andorra             312.0\n",
       "Switzerland         280.0\n",
       "Denmark             278.0\n",
       "                    ...  \n",
       "Niger                 1.0\n",
       "Cambodia              1.0\n",
       "Oman                  1.0\n",
       "Papua New Guinea      1.0\n",
       "Fiji                  1.0\n",
       "Name: wine_servings, Length: 162, dtype: float64"
      ]
     },
     "execution_count": 244,
     "metadata": {},
     "output_type": "execute_result"
    }
   ],
   "source": [
    "# We can specify the sorting algorithm\n",
    "\n",
    "alcohol.sort_values(ascending=False, na_position='last', kind='quicksort') # mergesort, heapsort"
   ]
  },
  {
   "cell_type": "code",
   "execution_count": 245,
   "metadata": {},
   "outputs": [],
   "source": [
    "# modifies original series without creating a copy\n",
    "alcohol.sort_values(ascending=False, na_position='last', kind='quicksort', inplace=True) "
   ]
  },
  {
   "cell_type": "code",
   "execution_count": 246,
   "metadata": {},
   "outputs": [
    {
     "data": {
      "text/plain": [
       "country\n",
       "France               370.0\n",
       "Portugal             339.0\n",
       "Andorra              312.0\n",
       "Switzerland          280.0\n",
       "Denmark              278.0\n",
       "Slovenia             276.0\n",
       "Luxembourg           271.0\n",
       "Croatia              254.0\n",
       "Italy                237.0\n",
       "Equatorial Guinea    233.0\n",
       "Name: wine_servings, dtype: float64"
      ]
     },
     "execution_count": 246,
     "metadata": {},
     "output_type": "execute_result"
    },
    {
     "data": {
      "text/plain": [
       "country\n",
       "France               370.0\n",
       "Portugal             339.0\n",
       "Andorra              312.0\n",
       "Switzerland          280.0\n",
       "Denmark              278.0\n",
       "Slovenia             276.0\n",
       "Luxembourg           271.0\n",
       "Croatia              254.0\n",
       "Italy                237.0\n",
       "Equatorial Guinea    233.0\n",
       "Name: wine_servings, dtype: float64"
      ]
     },
     "execution_count": 246,
     "metadata": {},
     "output_type": "execute_result"
    }
   ],
   "source": [
    "# nlargest() and nsmallest()\n",
    "\n",
    "# Example: get top 10 wine consuming countries\n",
    "\n",
    "alcohol.sort_values(ascending=False)[:10]\n",
    "\n",
    "# Pandorable way\n",
    "alcohol.nlargest(n=10)\n"
   ]
  },
  {
   "cell_type": "code",
   "execution_count": 247,
   "metadata": {},
   "outputs": [
    {
     "data": {
      "text/plain": [
       "country\n",
       "Tanzania    1.0\n",
       "Guyana      1.0\n",
       "Haiti       1.0\n",
       "Vietnam     1.0\n",
       "Gambia      1.0\n",
       "Name: wine_servings, dtype: float64"
      ]
     },
     "execution_count": 247,
     "metadata": {},
     "output_type": "execute_result"
    }
   ],
   "source": [
    "alcohol.nsmallest(5)\n",
    "# better alterative than sorting a series"
   ]
  },
  {
   "cell_type": "code",
   "execution_count": 248,
   "metadata": {},
   "outputs": [
    {
     "data": {
      "text/plain": [
       "country\n",
       "France         370.0\n",
       "Portugal       339.0\n",
       "Andorra        312.0\n",
       "Switzerland    280.0\n",
       "Denmark        278.0\n",
       "Name: wine_servings, dtype: float64"
      ]
     },
     "execution_count": 248,
     "metadata": {},
     "output_type": "execute_result"
    }
   ],
   "source": [
    "# Sorting with sort_index()\n",
    "\n",
    "alcohol.head()\n",
    "# Currently series is sorted in descending order"
   ]
  },
  {
   "cell_type": "code",
   "execution_count": 249,
   "metadata": {},
   "outputs": [
    {
     "data": {
      "text/plain": [
       "country\n",
       "Albania               54.0\n",
       "Algeria               14.0\n",
       "Andorra              312.0\n",
       "Angola                45.0\n",
       "Antigua & Barbuda     45.0\n",
       "                     ...  \n",
       "Vanuatu               11.0\n",
       "Venezuela              3.0\n",
       "Vietnam                1.0\n",
       "Zambia                 4.0\n",
       "Zimbabwe               4.0\n",
       "Name: wine_servings, Length: 162, dtype: float64"
      ]
     },
     "execution_count": 249,
     "metadata": {},
     "output_type": "execute_result"
    },
    {
     "data": {
      "text/plain": [
       "country\n",
       "Zimbabwe               4.0\n",
       "Zambia                 4.0\n",
       "Vietnam                1.0\n",
       "Venezuela              3.0\n",
       "Vanuatu               11.0\n",
       "                     ...  \n",
       "Antigua & Barbuda     45.0\n",
       "Angola                45.0\n",
       "Andorra              312.0\n",
       "Algeria               14.0\n",
       "Albania               54.0\n",
       "Name: wine_servings, Length: 162, dtype: float64"
      ]
     },
     "execution_count": 249,
     "metadata": {},
     "output_type": "execute_result"
    }
   ],
   "source": [
    "alcohol.sort_index()\n",
    "\n",
    "alcohol.sort_index(ascending=False, na_position='first')"
   ]
  },
  {
   "cell_type": "code",
   "execution_count": 250,
   "metadata": {},
   "outputs": [
    {
     "data": {
      "text/plain": [
       "0"
      ]
     },
     "execution_count": 250,
     "metadata": {},
     "output_type": "execute_result"
    }
   ],
   "source": [
    "alcohol.index.isnull().sum()"
   ]
  },
  {
   "cell_type": "code",
   "execution_count": 251,
   "metadata": {},
   "outputs": [
    {
     "data": {
      "text/plain": [
       "country\n",
       "France         370.0\n",
       "Portugal       339.0\n",
       "Andorra        312.0\n",
       "Switzerland    280.0\n",
       "Denmark        278.0\n",
       "Name: wine_servings, dtype: float64"
      ]
     },
     "execution_count": 251,
     "metadata": {},
     "output_type": "execute_result"
    }
   ],
   "source": [
    "alcohol.head()"
   ]
  },
  {
   "cell_type": "code",
   "execution_count": 252,
   "metadata": {},
   "outputs": [],
   "source": [
    "# sort_values() - returns a new series, sorted by values\n",
    "\n",
    "# sort_index() - returns a new series, sorted by index labels\n",
    "\n",
    "# parameters: ascending = True, inplace=False, na_position='last', sort='quicksort'"
   ]
  },
  {
   "cell_type": "code",
   "execution_count": 253,
   "metadata": {},
   "outputs": [
    {
     "data": {
      "text/plain": [
       "country\n",
       "France         370.0\n",
       "Portugal       339.0\n",
       "Andorra        312.0\n",
       "Switzerland    280.0\n",
       "Denmark        278.0\n",
       "Name: wine_servings, dtype: float64"
      ]
     },
     "execution_count": 253,
     "metadata": {},
     "output_type": "execute_result"
    },
    {
     "data": {
      "text/plain": [
       "55"
      ]
     },
     "execution_count": 253,
     "metadata": {},
     "output_type": "execute_result"
    },
    {
     "data": {
      "text/plain": [
       "country\n",
       "Seychelles             51.0\n",
       "Bahamas                51.0\n",
       "Albania                54.0\n",
       "Lithuania              56.0\n",
       "Poland                 56.0\n",
       "Gabon                  59.0\n",
       "Estonia                59.0\n",
       "Latvia                 62.0\n",
       "St. Lucia              71.0\n",
       "Russian Federation     73.0\n",
       "Cook Islands           74.0\n",
       "Paraguay               74.0\n",
       "Iceland                78.0\n",
       "South Africa           81.0\n",
       "USA                    84.0\n",
       "Macedonia              86.0\n",
       "Bulgaria               94.0\n",
       "Finland                97.0\n",
       "Canada                100.0\n",
       "Spain                 112.0\n",
       "Name: wine_servings, dtype: float64"
      ]
     },
     "execution_count": 253,
     "metadata": {},
     "output_type": "execute_result"
    },
    {
     "data": {
      "text/plain": [
       "count     20.000000\n",
       "mean      73.600000\n",
       "std       17.866169\n",
       "min       51.000000\n",
       "25%       58.250000\n",
       "50%       73.500000\n",
       "75%       84.500000\n",
       "max      112.000000\n",
       "Name: wine_servings, dtype: float64"
      ]
     },
     "execution_count": 253,
     "metadata": {},
     "output_type": "execute_result"
    },
    {
     "data": {
      "text/plain": [
       "73.6"
      ]
     },
     "execution_count": 253,
     "metadata": {},
     "output_type": "execute_result"
    },
    {
     "data": {
      "text/plain": [
       "73.5"
      ]
     },
     "execution_count": 253,
     "metadata": {},
     "output_type": "execute_result"
    },
    {
     "data": {
      "text/plain": [
       "17.866169147301836"
      ]
     },
     "execution_count": 253,
     "metadata": {},
     "output_type": "execute_result"
    }
   ],
   "source": [
    "# Skills Challenge\n",
    "\n",
    "# 1. Select all the countries from alcohol that have more than \n",
    "#    50 wine servings and save them (and the corresponding values)\n",
    "#    in a variable fifty_plus\n",
    "\n",
    "fifty_plus = alcohol[alcohol > 50]\n",
    "fifty_plus.head()\n",
    "fifty_plus.count()\n",
    "\n",
    "# 2. From fifty_plus, choose the countries with the smallest 20 wine\n",
    "#    serving values.\n",
    "\n",
    "fifty_plus.nsmallest(n=20)\n",
    "\n",
    "# 3. Mean, median, and standard deviation of sample from step 2\n",
    "\n",
    "fifty_plus.nsmallest(20).describe()\n",
    "\n",
    "fifty_plus.nsmallest(20).mean()\n",
    "\n",
    "fifty_plus.nsmallest(20).median()\n",
    "\n",
    "fifty_plus.nsmallest(20).std()"
   ]
  },
  {
   "cell_type": "code",
   "execution_count": 254,
   "metadata": {},
   "outputs": [
    {
     "data": {
      "text/plain": [
       "country\n",
       "France              372.0\n",
       "Portugal            341.0\n",
       "Andorra             314.0\n",
       "Switzerland         282.0\n",
       "Denmark             280.0\n",
       "                    ...  \n",
       "Niger                 3.0\n",
       "Cambodia              3.0\n",
       "Oman                  3.0\n",
       "Papua New Guinea      3.0\n",
       "Fiji                  3.0\n",
       "Name: wine_servings, Length: 162, dtype: float64"
      ]
     },
     "execution_count": 254,
     "metadata": {},
     "output_type": "execute_result"
    }
   ],
   "source": [
    "# Series Arithemetics and fill_value()\n",
    "\n",
    "# Add 2 to every value - vectorized\n",
    "alcohol + 2"
   ]
  },
  {
   "cell_type": "code",
   "execution_count": 255,
   "metadata": {},
   "outputs": [
    {
     "data": {
      "text/plain": [
       "country\n",
       "Albania               54.0\n",
       "Algeria               14.0\n",
       "Andorra              312.0\n",
       "Angola                45.0\n",
       "Antigua & Barbuda     45.0\n",
       "Name: wine_servings, dtype: float64"
      ]
     },
     "execution_count": 255,
     "metadata": {},
     "output_type": "execute_result"
    }
   ],
   "source": [
    "alcohol.sort_index(inplace=True)\n",
    "alcohol.head()"
   ]
  },
  {
   "cell_type": "code",
   "execution_count": 256,
   "metadata": {},
   "outputs": [
    {
     "data": {
      "text/plain": [
       "Albania              60.0\n",
       "Algeria              24.0\n",
       "Andorra               NaN\n",
       "Angola                NaN\n",
       "Antigua & Barbuda     NaN\n",
       "                     ... \n",
       "Vanuatu               NaN\n",
       "Venezuela             NaN\n",
       "Vietnam               NaN\n",
       "Zambia                NaN\n",
       "Zimbabwe              NaN\n",
       "Length: 162, dtype: float64"
      ]
     },
     "execution_count": 256,
     "metadata": {},
     "output_type": "execute_result"
    }
   ],
   "source": [
    "more_drinks = pd.Series({'Albania': 6, 'Algeria': 10})\n",
    "alcohol + more_drinks\n",
    "# Only gives overlapping index values"
   ]
  },
  {
   "cell_type": "code",
   "execution_count": 257,
   "metadata": {},
   "outputs": [
    {
     "data": {
      "text/plain": [
       "Albania               60.0\n",
       "Algeria               24.0\n",
       "Andorra              312.0\n",
       "Angola                45.0\n",
       "Antigua & Barbuda     45.0\n",
       "                     ...  \n",
       "Vanuatu               11.0\n",
       "Venezuela              3.0\n",
       "Vietnam                1.0\n",
       "Zambia                 4.0\n",
       "Zimbabwe               4.0\n",
       "Length: 162, dtype: float64"
      ]
     },
     "execution_count": 257,
     "metadata": {},
     "output_type": "execute_result"
    }
   ],
   "source": [
    "# Instead \n",
    "\n",
    "alcohol.add(more_drinks, fill_value=0)\n",
    "# Fills 0 value for NaN values, and merges both Series"
   ]
  },
  {
   "cell_type": "code",
   "execution_count": 258,
   "metadata": {},
   "outputs": [
    {
     "data": {
      "text/plain": [
       "Albania               48.0\n",
       "Algeria                4.0\n",
       "Andorra              312.0\n",
       "Angola                45.0\n",
       "Antigua & Barbuda     45.0\n",
       "                     ...  \n",
       "Vanuatu               11.0\n",
       "Venezuela              3.0\n",
       "Vietnam                1.0\n",
       "Zambia                 4.0\n",
       "Zimbabwe               4.0\n",
       "Length: 162, dtype: float64"
      ]
     },
     "execution_count": 258,
     "metadata": {},
     "output_type": "execute_result"
    }
   ],
   "source": [
    "alcohol.subtract(more_drinks, fill_value=0)"
   ]
  },
  {
   "cell_type": "code",
   "execution_count": 259,
   "metadata": {},
   "outputs": [
    {
     "data": {
      "text/plain": [
       "Albania                9.0\n",
       "Algeria                1.4\n",
       "Andorra              312.0\n",
       "Angola                45.0\n",
       "Antigua & Barbuda     45.0\n",
       "                     ...  \n",
       "Vanuatu               11.0\n",
       "Venezuela              3.0\n",
       "Vietnam                1.0\n",
       "Zambia                 4.0\n",
       "Zimbabwe               4.0\n",
       "Length: 162, dtype: float64"
      ]
     },
     "execution_count": 259,
     "metadata": {},
     "output_type": "execute_result"
    }
   ],
   "source": [
    "alcohol.divide(more_drinks, fill_value=1)"
   ]
  },
  {
   "cell_type": "code",
   "execution_count": 260,
   "metadata": {},
   "outputs": [
    {
     "data": {
      "text/plain": [
       "Albania              324.0\n",
       "Algeria              140.0\n",
       "Andorra              312.0\n",
       "Angola                45.0\n",
       "Antigua & Barbuda     45.0\n",
       "                     ...  \n",
       "Vanuatu               11.0\n",
       "Venezuela              3.0\n",
       "Vietnam                1.0\n",
       "Zambia                 4.0\n",
       "Zimbabwe               4.0\n",
       "Length: 162, dtype: float64"
      ]
     },
     "execution_count": 260,
     "metadata": {},
     "output_type": "execute_result"
    }
   ],
   "source": [
    "alcohol.multiply(more_drinks, fill_value=1)"
   ]
  },
  {
   "cell_type": "code",
   "execution_count": 261,
   "metadata": {},
   "outputs": [
    {
     "data": {
      "text/plain": [
       "7013.756460394142"
      ]
     },
     "execution_count": 261,
     "metadata": {},
     "output_type": "execute_result"
    },
    {
     "data": {
      "text/plain": [
       "7013.756460394142"
      ]
     },
     "execution_count": 261,
     "metadata": {},
     "output_type": "execute_result"
    },
    {
     "data": {
      "text/plain": [
       "83.74817287794488"
      ]
     },
     "execution_count": 261,
     "metadata": {},
     "output_type": "execute_result"
    },
    {
     "data": {
      "text/plain": [
       "83.74817287794488"
      ]
     },
     "execution_count": 261,
     "metadata": {},
     "output_type": "execute_result"
    }
   ],
   "source": [
    "# Variance and Standard Deviation\n",
    "\n",
    "# Variance - average of squared differences from the mean\n",
    "# Std Dev - square root of variance\n",
    "\n",
    "(alcohol.subtract(alcohol.mean())**2).sum()/(alcohol.count()-1)\n",
    "\n",
    "# same as \n",
    "alcohol.var()\n",
    "\n",
    "# Std Dev \n",
    "\n",
    "np.sqrt((alcohol.subtract(alcohol.mean())**2).sum()/(alcohol.count()-1))\n",
    "alcohol.std()\n"
   ]
  },
  {
   "cell_type": "code",
   "execution_count": 262,
   "metadata": {},
   "outputs": [
    {
     "data": {
      "text/plain": [
       "9544.0"
      ]
     },
     "execution_count": 262,
     "metadata": {},
     "output_type": "execute_result"
    },
    {
     "data": {
      "text/plain": [
       "country\n",
       "Albania                54.0\n",
       "Algeria                68.0\n",
       "Andorra               380.0\n",
       "Angola                425.0\n",
       "Antigua & Barbuda     470.0\n",
       "                      ...  \n",
       "Vanuatu              9532.0\n",
       "Venezuela            9535.0\n",
       "Vietnam              9536.0\n",
       "Zambia               9540.0\n",
       "Zimbabwe             9544.0\n",
       "Name: wine_servings, Length: 162, dtype: float64"
      ]
     },
     "execution_count": 262,
     "metadata": {},
     "output_type": "execute_result"
    }
   ],
   "source": [
    "## Cumulative Operations\n",
    "\n",
    "# sum() - gives total of all values\n",
    "alcohol.sum()\n",
    "\n",
    "# The last value will be the sum of the entire series\n",
    "alcohol.cumsum()\n"
   ]
  },
  {
   "cell_type": "code",
   "execution_count": 263,
   "metadata": {},
   "outputs": [
    {
     "data": {
      "text/plain": [
       "country\n",
       "Albania                54.0\n",
       "Algeria                68.0\n",
       "Andorra               380.0\n",
       "Angola                425.0\n",
       "Antigua & Barbuda     470.0\n",
       "                      ...  \n",
       "Vanuatu              9532.0\n",
       "Venezuela            9535.0\n",
       "Vietnam              9536.0\n",
       "Zambia               9540.0\n",
       "Zimbabwe             9544.0\n",
       "Name: wine_servings, Length: 162, dtype: float64"
      ]
     },
     "execution_count": 263,
     "metadata": {},
     "output_type": "execute_result"
    },
    {
     "data": {
      "text/plain": [
       "country\n",
       "Albania                54.0\n",
       "Algeria                68.0\n",
       "Andorra               380.0\n",
       "Angola                425.0\n",
       "Antigua & Barbuda     470.0\n",
       "                      ...  \n",
       "Vanuatu              9532.0\n",
       "Venezuela            9535.0\n",
       "Vietnam              9536.0\n",
       "Zambia               9540.0\n",
       "Zimbabwe             9544.0\n",
       "Name: wine_servings, Length: 162, dtype: float64"
      ]
     },
     "execution_count": 263,
     "metadata": {},
     "output_type": "execute_result"
    },
    {
     "data": {
      "text/plain": [
       "nan"
      ]
     },
     "execution_count": 263,
     "metadata": {},
     "output_type": "execute_result"
    }
   ],
   "source": [
    "alcohol.cumsum(skipna=True) # True by default\n",
    "\n",
    "alcohol.cumsum(skipna=False)\n",
    "\n",
    "# Because\n",
    "np.nan + 123"
   ]
  },
  {
   "cell_type": "code",
   "execution_count": 264,
   "metadata": {},
   "outputs": [
    {
     "data": {
      "text/plain": [
       "3.427611505218278e+194"
      ]
     },
     "execution_count": 264,
     "metadata": {},
     "output_type": "execute_result"
    },
    {
     "data": {
      "text/plain": [
       "country\n",
       "Albania               5.400000e+01\n",
       "Algeria               7.560000e+02\n",
       "Andorra               2.358720e+05\n",
       "Angola                1.061424e+07\n",
       "Antigua & Barbuda     4.776408e+08\n",
       "                         ...      \n",
       "Vanuatu              7.140857e+192\n",
       "Venezuela            2.142257e+193\n",
       "Vietnam              2.142257e+193\n",
       "Zambia               8.569029e+193\n",
       "Zimbabwe             3.427612e+194\n",
       "Name: wine_servings, Length: 162, dtype: float64"
      ]
     },
     "execution_count": 264,
     "metadata": {},
     "output_type": "execute_result"
    },
    {
     "data": {
      "text/plain": [
       "True"
      ]
     },
     "execution_count": 264,
     "metadata": {},
     "output_type": "execute_result"
    }
   ],
   "source": [
    "# Product of all values\n",
    "alcohol.prod()\n",
    "\n",
    "# Cumulative product\n",
    "alcohol.cumprod()\n",
    "\n",
    "alcohol.cumprod()[-1] == alcohol.prod()"
   ]
  },
  {
   "cell_type": "code",
   "execution_count": 265,
   "metadata": {},
   "outputs": [
    {
     "data": {
      "text/plain": [
       "1.0"
      ]
     },
     "execution_count": 265,
     "metadata": {},
     "output_type": "execute_result"
    },
    {
     "data": {
      "text/plain": [
       "country\n",
       "Albania              54.0\n",
       "Algeria              14.0\n",
       "Andorra              14.0\n",
       "Angola               14.0\n",
       "Antigua & Barbuda    14.0\n",
       "                     ... \n",
       "Vanuatu               1.0\n",
       "Venezuela             1.0\n",
       "Vietnam               1.0\n",
       "Zambia                1.0\n",
       "Zimbabwe              1.0\n",
       "Name: wine_servings, Length: 162, dtype: float64"
      ]
     },
     "execution_count": 265,
     "metadata": {},
     "output_type": "execute_result"
    }
   ],
   "source": [
    "alcohol.min()\n",
    "\n",
    "# minimum value of all the preceding values\n",
    "alcohol.cummin()"
   ]
  },
  {
   "cell_type": "code",
   "execution_count": 266,
   "metadata": {},
   "outputs": [
    {
     "data": {
      "text/plain": [
       "370.0"
      ]
     },
     "execution_count": 266,
     "metadata": {},
     "output_type": "execute_result"
    },
    {
     "data": {
      "text/plain": [
       "country\n",
       "Albania               54.0\n",
       "Algeria               54.0\n",
       "Andorra              312.0\n",
       "Angola               312.0\n",
       "Antigua & Barbuda    312.0\n",
       "                     ...  \n",
       "Vanuatu              370.0\n",
       "Venezuela            370.0\n",
       "Vietnam              370.0\n",
       "Zambia               370.0\n",
       "Zimbabwe             370.0\n",
       "Name: wine_servings, Length: 162, dtype: float64"
      ]
     },
     "execution_count": 266,
     "metadata": {},
     "output_type": "execute_result"
    }
   ],
   "source": [
    "alcohol.max()\n",
    "\n",
    "# maximum value of all the preceding values\n",
    "alcohol.cummax()"
   ]
  },
  {
   "cell_type": "code",
   "execution_count": 267,
   "metadata": {},
   "outputs": [
    {
     "data": {
      "text/plain": [
       "country\n",
       "Albania               54.0\n",
       "Algeria               14.0\n",
       "Andorra              312.0\n",
       "Angola                45.0\n",
       "Antigua & Barbuda     45.0\n",
       "Name: wine_servings, dtype: float64"
      ]
     },
     "execution_count": 267,
     "metadata": {},
     "output_type": "execute_result"
    },
    {
     "data": {
      "text/plain": [
       "country\n",
       "Albania                NaN\n",
       "Algeria              -40.0\n",
       "Andorra              298.0\n",
       "Angola              -267.0\n",
       "Antigua & Barbuda      0.0\n",
       "Name: wine_servings, dtype: float64"
      ]
     },
     "execution_count": 267,
     "metadata": {},
     "output_type": "execute_result"
    },
    {
     "data": {
      "text/plain": [
       "country\n",
       "Albania                NaN\n",
       "Algeria                NaN\n",
       "Andorra              258.0\n",
       "Angola                31.0\n",
       "Antigua & Barbuda   -267.0\n",
       "Name: wine_servings, dtype: float64"
      ]
     },
     "execution_count": 267,
     "metadata": {},
     "output_type": "execute_result"
    }
   ],
   "source": [
    "# Pairwise differences\n",
    "\n",
    "alcohol.head()\n",
    "\n",
    "# Difference between the element and it's previous one\n",
    "alcohol.diff().head()\n",
    "\n",
    "# Period parameter in diff\n",
    "alcohol.diff(periods=2).head()\n",
    "\n",
    "# Periods parameter could also be negative \n",
    "# periods=1  --> v2-v1, v3-v2,..\n",
    "# periods=-1 --> v1-v2, v2-v3,..\n",
    "# periods=2  --> v3-v1, v4-v2,.."
   ]
  },
  {
   "cell_type": "code",
   "execution_count": 268,
   "metadata": {},
   "outputs": [
    {
     "name": "stdout",
     "output_type": "stream",
     "text": [
      "54.0\n",
      "14.0\n",
      "312.0\n",
      "45.0\n",
      "45.0\n",
      "Albania\n",
      "Algeria\n",
      "Andorra\n",
      "Angola\n",
      "Antigua & Barbuda\n",
      "Albania 54.0\n",
      "Algeria 14.0\n",
      "Andorra 312.0\n",
      "Angola 45.0\n",
      "Antigua & Barbuda 45.0\n"
     ]
    }
   ],
   "source": [
    "# Series Iteration\n",
    "\n",
    "# Iterate over each element in the series\n",
    "\n",
    "mini_alc = alcohol[:5]\n",
    "\n",
    "# Method 1: Pythonic way\n",
    "\n",
    "for i in mini_alc:\n",
    "    print (i)\n",
    "    \n",
    "# Get index labels\n",
    "for i in mini_alc.index:\n",
    "    print (i)\n",
    "    \n",
    "# Get values as well as the index\n",
    "for i in mini_alc.index:\n",
    "    print (i, mini_alc[i])"
   ]
  },
  {
   "cell_type": "code",
   "execution_count": 269,
   "metadata": {},
   "outputs": [
    {
     "name": "stdout",
     "output_type": "stream",
     "text": [
      "('Albania', 54.0)\n",
      "('Algeria', 14.0)\n",
      "('Andorra', 312.0)\n",
      "('Angola', 45.0)\n",
      "('Antigua & Barbuda', 45.0)\n",
      "('Albania', 54.0)\n",
      "('Algeria', 14.0)\n",
      "('Andorra', 312.0)\n",
      "('Angola', 45.0)\n",
      "('Antigua & Barbuda', 45.0)\n"
     ]
    }
   ],
   "source": [
    "# Method 2: A Pandorable way\n",
    "\n",
    "# Series is essentially a Dict data structure\n",
    "# Lazy eval -- only accesses when asked\n",
    "# very performant\n",
    "for i in mini_alc.items():\n",
    "    print (i)\n",
    "    \n",
    "for i in mini_alc.iteritems():\n",
    "    print (i)"
   ]
  },
  {
   "cell_type": "code",
   "execution_count": 270,
   "metadata": {},
   "outputs": [
    {
     "data": {
      "text/plain": [
       "country\n",
       "Vanuatu      11.0\n",
       "Venezuela     3.0\n",
       "Vietnam       1.0\n",
       "Name: wine_servings, dtype: float64"
      ]
     },
     "execution_count": 270,
     "metadata": {},
     "output_type": "execute_result"
    },
    {
     "data": {
      "text/plain": [
       "country\n",
       "Kazakhstan      12.0\n",
       "Kyrgyzstan       6.0\n",
       "Turkmenistan    32.0\n",
       "Uzbekistan       8.0\n",
       "Name: wine_servings, dtype: float64"
      ]
     },
     "execution_count": 270,
     "metadata": {},
     "output_type": "execute_result"
    }
   ],
   "source": [
    "# Filtering: filter(), where(), and mask()\n",
    "\n",
    "# Filtering by specifying a text pattern\n",
    "alcohol.filter(regex='^V')\n",
    "\n",
    "alcohol.filter(like='stan')"
   ]
  },
  {
   "cell_type": "code",
   "execution_count": 271,
   "metadata": {},
   "outputs": [
    {
     "data": {
      "text/plain": [
       "country\n",
       "Andorra              312.0\n",
       "Argentina            221.0\n",
       "Australia            212.0\n",
       "Belgium              212.0\n",
       "Croatia              254.0\n",
       "Denmark              278.0\n",
       "Equatorial Guinea    233.0\n",
       "France               370.0\n",
       "Greece               218.0\n",
       "Italy                237.0\n",
       "Luxembourg           271.0\n",
       "Portugal             339.0\n",
       "Slovenia             276.0\n",
       "Switzerland          280.0\n",
       "Uruguay              220.0\n",
       "Name: wine_servings, dtype: float64"
      ]
     },
     "execution_count": 271,
     "metadata": {},
     "output_type": "execute_result"
    },
    {
     "data": {
      "text/plain": [
       "country\n",
       "Andorra              312.0\n",
       "Argentina            221.0\n",
       "Australia            212.0\n",
       "Belgium              212.0\n",
       "Croatia              254.0\n",
       "Denmark              278.0\n",
       "Equatorial Guinea    233.0\n",
       "France               370.0\n",
       "Greece               218.0\n",
       "Italy                237.0\n",
       "Luxembourg           271.0\n",
       "Portugal             339.0\n",
       "Slovenia             276.0\n",
       "Switzerland          280.0\n",
       "Uruguay              220.0\n",
       "Name: wine_servings, dtype: float64"
      ]
     },
     "execution_count": 271,
     "metadata": {},
     "output_type": "execute_result"
    },
    {
     "data": {
      "text/plain": [
       "country\n",
       "Andorra              312.0\n",
       "Argentina            221.0\n",
       "Australia            212.0\n",
       "Belgium              212.0\n",
       "Croatia              254.0\n",
       "Denmark              278.0\n",
       "Equatorial Guinea    233.0\n",
       "France               370.0\n",
       "Greece               218.0\n",
       "Italy                237.0\n",
       "Luxembourg           271.0\n",
       "Portugal             339.0\n",
       "Slovenia             276.0\n",
       "Switzerland          280.0\n",
       "Uruguay              220.0\n",
       "Name: wine_servings, dtype: float64"
      ]
     },
     "execution_count": 271,
     "metadata": {},
     "output_type": "execute_result"
    }
   ],
   "source": [
    "alcohol[alcohol > 200]\n",
    "\n",
    "alcohol.loc[alcohol > 200]\n",
    "\n",
    "def gt200(x):\n",
    "    return x > 200\n",
    "\n",
    "alcohol[gt200]"
   ]
  },
  {
   "cell_type": "code",
   "execution_count": 272,
   "metadata": {},
   "outputs": [
    {
     "data": {
      "text/plain": [
       "country\n",
       "Albania                NaN\n",
       "Algeria                NaN\n",
       "Andorra              312.0\n",
       "Angola                 NaN\n",
       "Antigua & Barbuda      NaN\n",
       "                     ...  \n",
       "Vanuatu                NaN\n",
       "Venezuela              NaN\n",
       "Vietnam                NaN\n",
       "Zambia                 NaN\n",
       "Zimbabwe               NaN\n",
       "Name: wine_servings, Length: 162, dtype: float64"
      ]
     },
     "execution_count": 272,
     "metadata": {},
     "output_type": "execute_result"
    },
    {
     "data": {
      "text/plain": [
       "country\n",
       "Andorra              312.0\n",
       "Argentina            221.0\n",
       "Australia            212.0\n",
       "Belgium              212.0\n",
       "Croatia              254.0\n",
       "Denmark              278.0\n",
       "Equatorial Guinea    233.0\n",
       "France               370.0\n",
       "Greece               218.0\n",
       "Italy                237.0\n",
       "Luxembourg           271.0\n",
       "Portugal             339.0\n",
       "Slovenia             276.0\n",
       "Switzerland          280.0\n",
       "Uruguay              220.0\n",
       "Name: wine_servings, dtype: float64"
      ]
     },
     "execution_count": 272,
     "metadata": {},
     "output_type": "execute_result"
    },
    {
     "data": {
      "text/plain": [
       "country\n",
       "Albania              too small\n",
       "Algeria              too small\n",
       "Andorra                  312.0\n",
       "Angola               too small\n",
       "Antigua & Barbuda    too small\n",
       "                       ...    \n",
       "Vanuatu              too small\n",
       "Venezuela            too small\n",
       "Vietnam              too small\n",
       "Zambia               too small\n",
       "Zimbabwe             too small\n",
       "Name: wine_servings, Length: 162, dtype: object"
      ]
     },
     "execution_count": 272,
     "metadata": {},
     "output_type": "execute_result"
    }
   ],
   "source": [
    "# the where() method\n",
    "# Helps us efficiently replace values\n",
    "\n",
    "# Replaces all other values to nans by default\n",
    "alcohol.where(lambda x: x>200)\n",
    "\n",
    "alcohol.where(lambda x: x>200).dropna()\n",
    "\n",
    "alcohol.where(lambda x: x>200, other='too small')"
   ]
  },
  {
   "cell_type": "code",
   "execution_count": 273,
   "metadata": {},
   "outputs": [
    {
     "data": {
      "text/plain": [
       "country\n",
       "Albania              54.0\n",
       "Algeria              14.0\n",
       "Angola               45.0\n",
       "Antigua & Barbuda    45.0\n",
       "Armenia              11.0\n",
       "                     ... \n",
       "Vanuatu              11.0\n",
       "Venezuela             3.0\n",
       "Vietnam               1.0\n",
       "Zambia                4.0\n",
       "Zimbabwe              4.0\n",
       "Name: wine_servings, Length: 147, dtype: float64"
      ]
     },
     "execution_count": 273,
     "metadata": {},
     "output_type": "execute_result"
    },
    {
     "data": {
      "text/plain": [
       "country\n",
       "Albania              54.0\n",
       "Algeria              14.0\n",
       "Angola               45.0\n",
       "Antigua & Barbuda    45.0\n",
       "Armenia              11.0\n",
       "                     ... \n",
       "Vanuatu              11.0\n",
       "Venezuela             3.0\n",
       "Vietnam               1.0\n",
       "Zambia                4.0\n",
       "Zimbabwe              4.0\n",
       "Name: wine_servings, Length: 147, dtype: float64"
      ]
     },
     "execution_count": 273,
     "metadata": {},
     "output_type": "execute_result"
    }
   ],
   "source": [
    "# the mask() method\n",
    "\n",
    "# where() replaces when condition is False\n",
    "# mask() replaces when condition is True\n",
    "\n",
    "# When condition is not met, the replace with nans\n",
    "\n",
    "alcohol.where(lambda x: x<=200).dropna()\n",
    "# same\n",
    "alcohol.mask(lambda x: x>200).dropna()"
   ]
  },
  {
   "cell_type": "code",
   "execution_count": 274,
   "metadata": {},
   "outputs": [
    {
     "data": {
      "text/plain": [
       "country\n",
       "Albania               54.0\n",
       "Algeria               14.0\n",
       "Andorra              312.0\n",
       "Angola                45.0\n",
       "Antigua & Barbuda     45.0\n",
       "Name: wine_servings, dtype: float64"
      ]
     },
     "execution_count": 274,
     "metadata": {},
     "output_type": "execute_result"
    },
    {
     "data": {
      "text/plain": [
       "country\n",
       "Albania               54.0\n",
       "Algeria               19.0\n",
       "Andorra              312.0\n",
       "Angola                45.0\n",
       "Antigua & Barbuda     45.0\n",
       "Name: wine_servings, dtype: float64"
      ]
     },
     "execution_count": 274,
     "metadata": {},
     "output_type": "execute_result"
    }
   ],
   "source": [
    "# Transforming with update(), apply(), and map()\n",
    "\n",
    "alcohol.head(5)\n",
    "\n",
    "# spot vs global transforms\n",
    "alcohol.loc['Algeria'] = 19\n",
    "alcohol.head(5)\n",
    "\n",
    "# Can get repetitive when needing to update multiple values"
   ]
  },
  {
   "cell_type": "code",
   "execution_count": 275,
   "metadata": {},
   "outputs": [
    {
     "data": {
      "text/plain": [
       "country\n",
       "Albania              200.0\n",
       "Algeria               20.0\n",
       "Andorra              312.0\n",
       "Angola                45.0\n",
       "Antigua & Barbuda     45.0\n",
       "Name: wine_servings, dtype: float64"
      ]
     },
     "execution_count": 275,
     "metadata": {},
     "output_type": "execute_result"
    }
   ],
   "source": [
    "# Spot transforms\n",
    "\n",
    "alcohol.update(pd.Series(data=[200,20], index=['Albania', 'Algeria']))\n",
    "alcohol.head()\n",
    "\n",
    "# What if we want something more global?"
   ]
  },
  {
   "cell_type": "code",
   "execution_count": 276,
   "metadata": {},
   "outputs": [
    {
     "data": {
      "text/plain": [
       "country\n",
       "Albania              40000.0\n",
       "Algeria                400.0\n",
       "Andorra              97344.0\n",
       "Angola                2025.0\n",
       "Antigua & Barbuda     2025.0\n",
       "                      ...   \n",
       "Vanuatu                121.0\n",
       "Venezuela                9.0\n",
       "Vietnam                  1.0\n",
       "Zambia                  16.0\n",
       "Zimbabwe                16.0\n",
       "Name: wine_servings, Length: 162, dtype: float64"
      ]
     },
     "execution_count": 276,
     "metadata": {},
     "output_type": "execute_result"
    },
    {
     "data": {
      "text/plain": [
       "country\n",
       "Albania              40000.0\n",
       "Algeria                400.0\n",
       "Andorra              97344.0\n",
       "Angola                2025.0\n",
       "Antigua & Barbuda     2025.0\n",
       "                      ...   \n",
       "Vanuatu                121.0\n",
       "Venezuela                9.0\n",
       "Vietnam                  1.0\n",
       "Zambia                  16.0\n",
       "Zimbabwe                16.0\n",
       "Name: wine_servings, Length: 162, dtype: float64"
      ]
     },
     "execution_count": 276,
     "metadata": {},
     "output_type": "execute_result"
    },
    {
     "data": {
      "text/plain": [
       "country\n",
       "Albania              40000.0\n",
       "Algeria                400.0\n",
       "Andorra              97344.0\n",
       "Angola                2025.0\n",
       "Antigua & Barbuda     2025.0\n",
       "                      ...   \n",
       "Vanuatu                121.0\n",
       "Venezuela                9.0\n",
       "Vietnam                  1.0\n",
       "Zambia                  16.0\n",
       "Zimbabwe                16.0\n",
       "Name: wine_servings, Length: 162, dtype: float64"
      ]
     },
     "execution_count": 276,
     "metadata": {},
     "output_type": "execute_result"
    }
   ],
   "source": [
    "# the apply() method\n",
    "\n",
    "# applies transformation to each and every element in the series\n",
    "\n",
    "# Method 1\n",
    "alcohol.apply(lambda x: x**2)\n",
    "\n",
    "# Method 2\n",
    "alcohol.apply(np.square)\n",
    "\n",
    "# Method 3\n",
    "def multiply_by_self(x):\n",
    "    return x*x\n",
    "\n",
    "alcohol.apply(multiply_by_self)"
   ]
  },
  {
   "cell_type": "code",
   "execution_count": 277,
   "metadata": {},
   "outputs": [
    {
     "data": {
      "text/plain": [
       "country\n",
       "Albania               200.0\n",
       "Algeria               400.0\n",
       "Andorra               312.0\n",
       "Angola               2025.0\n",
       "Antigua & Barbuda    2025.0\n",
       "                      ...  \n",
       "Vanuatu               121.0\n",
       "Venezuela               9.0\n",
       "Vietnam                 1.0\n",
       "Zambia                 16.0\n",
       "Zimbabwe               16.0\n",
       "Name: wine_servings, Length: 162, dtype: float64"
      ]
     },
     "execution_count": 277,
     "metadata": {},
     "output_type": "execute_result"
    },
    {
     "data": {
      "text/plain": [
       "country\n",
       "Albania               200.0\n",
       "Algeria               400.0\n",
       "Andorra               312.0\n",
       "Angola               2025.0\n",
       "Antigua & Barbuda    2025.0\n",
       "                      ...  \n",
       "Vanuatu               121.0\n",
       "Venezuela               9.0\n",
       "Vietnam                 1.0\n",
       "Zambia                 16.0\n",
       "Zimbabwe               16.0\n",
       "Name: wine_servings, Length: 162, dtype: float64"
      ]
     },
     "execution_count": 277,
     "metadata": {},
     "output_type": "execute_result"
    }
   ],
   "source": [
    "def multiply_by_self_with_min(x, min_servings):\n",
    "    if x < min_servings:\n",
    "        return x**2\n",
    "    return x\n",
    "\n",
    "alcohol.apply(multiply_by_self_with_min, args=(200,))\n",
    "# same as\n",
    "alcohol.apply(multiply_by_self_with_min, min_servings=200)\n",
    "    "
   ]
  },
  {
   "cell_type": "code",
   "execution_count": 278,
   "metadata": {},
   "outputs": [
    {
     "data": {
      "text/plain": [
       "country\n",
       "Albania              40000.0\n",
       "Algeria                400.0\n",
       "Andorra              97344.0\n",
       "Angola                2025.0\n",
       "Antigua & Barbuda     2025.0\n",
       "                      ...   \n",
       "Vanuatu                121.0\n",
       "Venezuela                9.0\n",
       "Vietnam                  1.0\n",
       "Zambia                  16.0\n",
       "Zimbabwe                16.0\n",
       "Name: wine_servings, Length: 162, dtype: float64"
      ]
     },
     "execution_count": 278,
     "metadata": {},
     "output_type": "execute_result"
    },
    {
     "data": {
      "text/plain": [
       "country\n",
       "Albania              40000.0\n",
       "Algeria                400.0\n",
       "Andorra              97344.0\n",
       "Angola                2025.0\n",
       "Antigua & Barbuda     2025.0\n",
       "                      ...   \n",
       "Vanuatu                121.0\n",
       "Venezuela                9.0\n",
       "Vietnam                  1.0\n",
       "Zambia                  16.0\n",
       "Zimbabwe                16.0\n",
       "Name: wine_servings, Length: 162, dtype: float64"
      ]
     },
     "execution_count": 278,
     "metadata": {},
     "output_type": "execute_result"
    }
   ],
   "source": [
    "# the map() method\n",
    "\n",
    "# A substitution method \n",
    "alcohol.map(np.square)\n",
    "\n",
    "alcohol.map(lambda x: x**2)\n",
    "\n",
    "# In simple transforms, map() and apply() are equivalent\n",
    "# If tranform is complex, use apply()\n"
   ]
  },
  {
   "cell_type": "code",
   "execution_count": 279,
   "metadata": {},
   "outputs": [
    {
     "data": {
      "text/plain": [
       "country\n",
       "Afghanistan      NaN\n",
       "Albania         89.0\n",
       "Algeria         25.0\n",
       "Andorra        245.0\n",
       "Angola         217.0\n",
       "Name: beer_servings, dtype: float64"
      ]
     },
     "execution_count": 279,
     "metadata": {},
     "output_type": "execute_result"
    },
    {
     "data": {
      "text/plain": [
       "count    178.000000\n",
       "mean     115.106742\n",
       "std      100.306000\n",
       "min        1.000000\n",
       "25%       26.500000\n",
       "50%       82.000000\n",
       "75%      193.750000\n",
       "max      376.000000\n",
       "Name: beer_servings, dtype: float64"
      ]
     },
     "execution_count": 279,
     "metadata": {},
     "output_type": "execute_result"
    },
    {
     "data": {
      "text/plain": [
       "82.0"
      ]
     },
     "execution_count": 279,
     "metadata": {},
     "output_type": "execute_result"
    },
    {
     "data": {
      "text/plain": [
       "115.1067415730337"
      ]
     },
     "execution_count": 279,
     "metadata": {},
     "output_type": "execute_result"
    },
    {
     "data": {
      "text/plain": [
       "100.30599995319724"
      ]
     },
     "execution_count": 279,
     "metadata": {},
     "output_type": "execute_result"
    },
    {
     "data": {
      "text/plain": [
       "<AxesSubplot:>"
      ]
     },
     "execution_count": 279,
     "metadata": {},
     "output_type": "execute_result"
    },
    {
     "data": {
      "image/png": "[encoded data removed]",
      "text/plain": [
       "<Figure size 432x288 with 1 Axes>"
      ]
     },
     "metadata": {
      "needs_background": "light"
     },
     "output_type": "display_data"
    }
   ],
   "source": [
    "# Skills Challenge \n",
    "\n",
    "# 1. Read the drinks.csv dataset again, this time \n",
    "#     bringing the beer_servings sequence into a \n",
    "#     new series with country again acting as the\n",
    "#     index. Assign this series to the variable beers\n",
    "    \n",
    "    \n",
    "beers = pd.read_csv('https://raw.githubusercontent.com/fivethirtyeight/data/master/alcohol-consumption/drinks.csv', \n",
    "            usecols=['country', 'beer_servings'], index_col='country').squeeze()\n",
    "\n",
    "beers.replace(0, np.nan, inplace=True)\n",
    "beers.head()\n",
    "\n",
    "\n",
    "# 2. Calculate the mean, median, and standard deviation\n",
    "#     of beer servings in beers. Is the distribution\n",
    "#     left skewed or right skewed?\n",
    "\n",
    "beers.describe()\n",
    "beers.median()\n",
    "beers.mean()\n",
    "beers.std()\n",
    "beers.hist()\n",
    "\n",
    "# Mean is larger than the median. Most data lies to the left\n",
    "# of the distribution, making it positively skewed."
   ]
  },
  {
   "cell_type": "code",
   "execution_count": 280,
   "metadata": {},
   "outputs": [
    {
     "data": {
      "text/plain": [
       "country\n",
       "Afghanistan                 NaN\n",
       "Albania              -26.106742\n",
       "Algeria              -90.106742\n",
       "Andorra              129.893258\n",
       "Angola               101.893258\n",
       "Antigua & Barbuda    -13.106742\n",
       "Argentina             77.893258\n",
       "Armenia              -94.106742\n",
       "Australia            145.893258\n",
       "Austria              163.893258\n",
       "Name: beer_servings, dtype: float64"
      ]
     },
     "execution_count": 280,
     "metadata": {},
     "output_type": "execute_result"
    },
    {
     "data": {
      "text/plain": [
       "high    6\n",
       "low     4\n",
       "Name: beer_servings, dtype: int64"
      ]
     },
     "execution_count": 280,
     "metadata": {},
     "output_type": "execute_result"
    },
    {
     "data": {
      "text/plain": [
       "low     105\n",
       "high     88\n",
       "Name: beer_servings, dtype: int64"
      ]
     },
     "execution_count": 280,
     "metadata": {},
     "output_type": "execute_result"
    }
   ],
   "source": [
    "# 3. Slice the first 10 countries from beers. Are these \n",
    "#     relatively large or small relative to the rest of \n",
    "#     the sample?\n",
    "(beers[:10]-beers.mean())\n",
    "(beers[:10] - beers.mean()).apply(lambda x: 'low' if x<0 else 'high').value_counts()\n",
    "(beers - beers.mean()).apply(lambda x: 'low' if x<0 else 'high').value_counts()\n"
   ]
  },
  {
   "cell_type": "code",
   "execution_count": 281,
   "metadata": {},
   "outputs": [
    {
     "data": {
      "text/plain": [
       "country\n",
       "Afghanistan         NaN\n",
       "Albania       -0.260271\n",
       "Algeria       -0.898319\n",
       "Andorra        1.294970\n",
       "Angola         1.015824\n",
       "                 ...   \n",
       "Venezuela      2.172285\n",
       "Vietnam       -0.040942\n",
       "Yemen         -1.087739\n",
       "Zambia        -0.828532\n",
       "Zimbabwe      -0.509508\n",
       "Name: beer_servings, Length: 193, dtype: float64"
      ]
     },
     "execution_count": 281,
     "metadata": {},
     "output_type": "execute_result"
    },
    {
     "data": {
      "text/plain": [
       "country\n",
       "Afghanistan         NaN\n",
       "Albania       -0.260271\n",
       "Algeria       -0.898319\n",
       "Andorra        1.294970\n",
       "Angola         1.015824\n",
       "                 ...   \n",
       "Venezuela      2.172285\n",
       "Vietnam       -0.040942\n",
       "Yemen         -1.087739\n",
       "Zambia        -0.828532\n",
       "Zimbabwe      -0.509508\n",
       "Name: beer_servings, Length: 193, dtype: float64"
      ]
     },
     "execution_count": 281,
     "metadata": {},
     "output_type": "execute_result"
    }
   ],
   "source": [
    "# If a Z-score is 0, it indicates that the data point's \n",
    "# score is identical to the mean score.\n",
    "\n",
    "# Method 1\n",
    "\n",
    "def calculate_zscore(x, mean_value, std_value):\n",
    "    return (x-mean_value)/std_value\n",
    "\n",
    "beers.apply(calculate_zscore, args=(beers.mean(), beers.std(), ))\n",
    "\n",
    "beers.apply(calculate_zscore, mean_value=beers.mean(), std_value=beers.std())\n",
    "\n",
    "\n",
    "\n",
    "# BONUS: To answer that, we could compare each value to \n",
    "#     the mean or median. An even better approach would \n",
    "#     be to calculate the standard scores, or z-scores \n",
    "#     as they are known. \n",
    "# z = (x - mu)/std\n"
   ]
  },
  {
   "cell_type": "code",
   "execution_count": 285,
   "metadata": {},
   "outputs": [
    {
     "data": {
      "text/plain": [
       "country\n",
       "Afghanistan               NaN\n",
       "Albania             -0.260271\n",
       "Algeria             -0.898319\n",
       "Andorra              1.294970\n",
       "Angola               1.015824\n",
       "Antigua & Barbuda   -0.130668\n",
       "Argentina            0.776556\n",
       "Armenia             -0.938197\n",
       "Australia            1.454482\n",
       "Austria              1.633933\n",
       "Name: beer_servings, dtype: float64"
      ]
     },
     "execution_count": 285,
     "metadata": {},
     "output_type": "execute_result"
    },
    {
     "data": {
      "text/plain": [
       "-1.1375864018730273"
      ]
     },
     "execution_count": 285,
     "metadata": {},
     "output_type": "execute_result"
    },
    {
     "data": {
      "text/plain": [
       "2.60097360625186"
      ]
     },
     "execution_count": 285,
     "metadata": {},
     "output_type": "execute_result"
    },
    {
     "data": {
      "text/plain": [
       "2.60097360625186"
      ]
     },
     "execution_count": 285,
     "metadata": {},
     "output_type": "execute_result"
    },
    {
     "data": {
      "text/plain": [
       "'Namibia'"
      ]
     },
     "execution_count": 285,
     "metadata": {},
     "output_type": "execute_result"
    },
    {
     "data": {
      "text/plain": [
       "376.0"
      ]
     },
     "execution_count": 285,
     "metadata": {},
     "output_type": "execute_result"
    },
    {
     "data": {
      "text/plain": [
       "376.0"
      ]
     },
     "execution_count": 285,
     "metadata": {},
     "output_type": "execute_result"
    }
   ],
   "source": [
    "# 4. Create a new series that uses series arithmetics to \n",
    "#     calculate the z-score for each serving by subtracting\n",
    "#     from each the mean and dividing the difference by the \n",
    "#     standard deviation. Point the variable z-scores to this\n",
    "#     series.\n",
    "\n",
    "z_scores = (beers - beers.mean())/beers.std()\n",
    "z_scores[:10]\n",
    "\n",
    "z_scores.min()\n",
    "z_scores.max()\n",
    "z_scores.abs().max()\n",
    "\n",
    "\n",
    "\n",
    "    \n",
    "#     Which country has the largest absolute z-score? Is this \n",
    "#     a positive or a negative deviation?\n",
    "\n",
    "beers.idxmax()\n",
    "beers['Namibia']\n",
    "# or simply \n",
    "beers[beers.idxmax()]"
   ]
  }
 ],
 "metadata": {
  "interpreter": {
   "hash": "31f2aee4e71d21fbe5cf8b01ff0e069b9275f58929596ceb00d14d90e3e16cd6"
  },
  "kernelspec": {
   "display_name": "Python 3.7.3 64-bit",
   "language": "python",
   "name": "python3"
  },
  "language_info": {
   "codemirror_mode": {
    "name": "ipython",
    "version": 3
   },
   "file_extension": ".py",
   "mimetype": "text/x-python",
   "name": "python",
   "nbconvert_exporter": "python",
   "pygments_lexer": "ipython3",
   "version": "3.7.3"
  },
  "orig_nbformat": 4
 },
 "nbformat": 4,
 "nbformat_minor": 2
}
