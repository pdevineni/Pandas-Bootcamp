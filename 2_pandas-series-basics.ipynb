{
 "cells": [
  {
   "cell_type": "code",
   "execution_count": 1,
   "metadata": {},
   "outputs": [],
   "source": [
    "!#/usr/bin/python3"
   ]
  },
  {
   "cell_type": "code",
   "execution_count": 2,
   "metadata": {},
   "outputs": [],
   "source": [
    "from IPython.core.interactiveshell import InteractiveShell\n",
    "InteractiveShell.ast_node_interactivity = \"all\""
   ]
  },
  {
   "cell_type": "code",
   "execution_count": 3,
   "metadata": {},
   "outputs": [
    {
     "data": {
      "text/plain": [
       "'1.4.2'"
      ]
     },
     "execution_count": 3,
     "metadata": {},
     "output_type": "execute_result"
    }
   ],
   "source": [
    "import pandas as pd\n",
    "import numpy as np \n",
    "\n",
    "pd.__version__"
   ]
  },
  {
   "cell_type": "code",
   "execution_count": 4,
   "metadata": {},
   "outputs": [
    {
     "data": {
      "text/plain": [
       "list"
      ]
     },
     "execution_count": 4,
     "metadata": {},
     "output_type": "execute_result"
    }
   ],
   "source": [
    "# Pandas Series\n",
    "# one-dimensional, labeled arrays, of any data type\n",
    "# a sequence of values, with associated labels\n",
    "\n",
    "students = ['Alpha', 'Bravo', 'Charlie']\n",
    "type(students)"
   ]
  },
  {
   "cell_type": "code",
   "execution_count": 5,
   "metadata": {},
   "outputs": [
    {
     "data": {
      "text/plain": [
       "0      Alpha\n",
       "1      Bravo\n",
       "2    Charlie\n",
       "dtype: object"
      ]
     },
     "execution_count": 5,
     "metadata": {},
     "output_type": "execute_result"
    }
   ],
   "source": [
    "pd.Series(students)"
   ]
  },
  {
   "cell_type": "code",
   "execution_count": 6,
   "metadata": {},
   "outputs": [
    {
     "data": {
      "text/plain": [
       "0    23\n",
       "1    45\n",
       "2    12\n",
       "dtype: int64"
      ]
     },
     "execution_count": 6,
     "metadata": {},
     "output_type": "execute_result"
    }
   ],
   "source": [
    "ages = [23, 45, 12]\n",
    "pd.Series(ages)"
   ]
  },
  {
   "cell_type": "code",
   "execution_count": 7,
   "metadata": {},
   "outputs": [
    {
     "data": {
      "text/plain": [
       "0    134.3\n",
       "1    145.6\n",
       "2    175.3\n",
       "dtype: float64"
      ]
     },
     "execution_count": 7,
     "metadata": {},
     "output_type": "execute_result"
    }
   ],
   "source": [
    "heights = [134.3, 145.6, 175.3]\n",
    "pd.Series(heights)"
   ]
  },
  {
   "cell_type": "code",
   "execution_count": 8,
   "metadata": {},
   "outputs": [
    {
     "data": {
      "text/plain": [
       "0          True\n",
       "1           say\n",
       "2    {'a': 'b'}\n",
       "dtype: object"
      ]
     },
     "execution_count": 8,
     "metadata": {},
     "output_type": "execute_result"
    }
   ],
   "source": [
    "# Pandas Series automatically infers the datatype of values\n",
    "\n",
    "# Unlike Numpy arrays, Pandas Series supports mixed datatypes\n",
    "\n",
    "mixed = [True, 'say', {'a':'b'}]\n",
    "pd.Series(mixed)"
   ]
  },
  {
   "cell_type": "code",
   "execution_count": 9,
   "metadata": {},
   "outputs": [
    {
     "data": {
      "text/plain": [
       "0      Alpha\n",
       "1      Bravo\n",
       "2    Charlie\n",
       "dtype: object"
      ]
     },
     "execution_count": 9,
     "metadata": {},
     "output_type": "execute_result"
    },
    {
     "data": {
      "text/plain": [
       "0      Alpha\n",
       "1      Bravo\n",
       "2    Charlie\n",
       "dtype: object"
      ]
     },
     "execution_count": 9,
     "metadata": {},
     "output_type": "execute_result"
    }
   ],
   "source": [
    "pd.Series(students)\n",
    "\n",
    "pd.Series(data=students)\n",
    "\n",
    "# data is the paramater, and students are value that we associate \n",
    "# with the data parameter"
   ]
  },
  {
   "cell_type": "code",
   "execution_count": 10,
   "metadata": {},
   "outputs": [
    {
     "data": {
      "text/plain": [
       "True"
      ]
     },
     "execution_count": 10,
     "metadata": {},
     "output_type": "execute_result"
    },
    {
     "data": {
      "text/plain": [
       "12    Fooled by Randomness\n",
       "14                 Sapiens\n",
       "25         It Ends with Us\n",
       "dtype: object"
      ]
     },
     "execution_count": 10,
     "metadata": {},
     "output_type": "execute_result"
    }
   ],
   "source": [
    "books_list = ['Fooled by Randomness', 'Sapiens', 'It Ends with Us']\n",
    "list_s = pd.Series(books_list)\n",
    "\n",
    "# Pandas series has an associated label 0,1,2 ..\n",
    "\n",
    "books_dict = {0:'Fooled by Randomness', 1:'Sapiens', 2:'It Ends with Us'}\n",
    "dict_s = pd.Series(books_dict)\n",
    "\n",
    "list_s.equals(dict_s)\n",
    "\n",
    "# Pandas series is a Python dict \n",
    "books_dict_new = {12:'Fooled by Randomness', 14:'Sapiens', 25:'It Ends with Us'}\n",
    "pd.Series(books_dict_new)"
   ]
  },
  {
   "cell_type": "code",
   "execution_count": 11,
   "metadata": {},
   "outputs": [
    {
     "data": {
      "text/plain": [
       "0    Andy\n",
       "dtype: object"
      ]
     },
     "execution_count": 11,
     "metadata": {},
     "output_type": "execute_result"
    },
    {
     "data": {
      "text/plain": [
       "0    1\n",
       "dtype: int64"
      ]
     },
     "execution_count": 11,
     "metadata": {},
     "output_type": "execute_result"
    }
   ],
   "source": [
    "# Pandas is not critically dependent on labels or implied labels\n",
    "# to be provided as inputs\n",
    "\n",
    "# It defaults to integer labels when labels are not provided\n",
    "\n",
    "pd.Series('Andy')\n",
    "\n",
    "pd.Series(1)"
   ]
  },
  {
   "cell_type": "code",
   "execution_count": 12,
   "metadata": {},
   "outputs": [
    {
     "data": {
      "text/plain": [
       "[23, 45, 12]"
      ]
     },
     "execution_count": 12,
     "metadata": {},
     "output_type": "execute_result"
    },
    {
     "data": {
      "text/plain": [
       "0    23\n",
       "1    45\n",
       "2    12\n",
       "dtype: int64"
      ]
     },
     "execution_count": 12,
     "metadata": {},
     "output_type": "execute_result"
    }
   ],
   "source": [
    "# Pandas automatically infers dtype when not provided\n",
    "\n",
    "ages \n",
    "pd.Series(ages)"
   ]
  },
  {
   "cell_type": "code",
   "execution_count": 13,
   "metadata": {},
   "outputs": [
    {
     "data": {
      "text/plain": [
       "0    23.0\n",
       "1    45.0\n",
       "2    12.0\n",
       "dtype: float64"
      ]
     },
     "execution_count": 13,
     "metadata": {},
     "output_type": "execute_result"
    }
   ],
   "source": [
    "pd.Series(ages, dtype='float')"
   ]
  },
  {
   "cell_type": "code",
   "execution_count": 14,
   "metadata": {},
   "outputs": [
    {
     "data": {
      "text/plain": [
       "['Alpha', 'Bravo', 'Charlie']"
      ]
     },
     "execution_count": 14,
     "metadata": {},
     "output_type": "execute_result"
    },
    {
     "data": {
      "text/plain": [
       "0      Alpha\n",
       "1      Bravo\n",
       "2    Charlie\n",
       "dtype: object"
      ]
     },
     "execution_count": 14,
     "metadata": {},
     "output_type": "execute_result"
    },
    {
     "data": {
      "text/plain": [
       "dtype('O')"
      ]
     },
     "execution_count": 14,
     "metadata": {},
     "output_type": "execute_result"
    }
   ],
   "source": [
    "# dtype for Series containing a string is object \n",
    "# The reason for this is numpy \n",
    "\n",
    "students\n",
    "\n",
    "names_series = pd.Series(students)\n",
    "names_series \n",
    "\n",
    "names_series.dtype\n"
   ]
  },
  {
   "cell_type": "code",
   "execution_count": 15,
   "metadata": {},
   "outputs": [
    {
     "data": {
      "text/plain": [
       "0    134.3\n",
       "1    145.6\n",
       "2    175.3\n",
       "dtype: object"
      ]
     },
     "execution_count": 15,
     "metadata": {},
     "output_type": "execute_result"
    }
   ],
   "source": [
    "# dtype('O')\n",
    "# Numpy stores data elements next to each other, and the arrays are homogenous \n",
    "# However strings have variable length \n",
    "# Numpy saves pointer of string object in memory \n",
    "\n",
    "heights2 = [134.3, '145.6', 175.3]\n",
    "pd.Series(heights2)"
   ]
  },
  {
   "cell_type": "code",
   "execution_count": 16,
   "metadata": {},
   "outputs": [
    {
     "data": {
      "text/plain": [
       "['Fooled by Randomness', 'Sapiens', 'It Ends with Us']"
      ]
     },
     "execution_count": 16,
     "metadata": {},
     "output_type": "execute_result"
    }
   ],
   "source": [
    "# Index and RangeIndex\n",
    "\n",
    "books_list"
   ]
  },
  {
   "cell_type": "code",
   "execution_count": 17,
   "metadata": {},
   "outputs": [
    {
     "data": {
      "text/plain": [
       "0    Fooled by Randomness\n",
       "1                 Sapiens\n",
       "2         It Ends with Us\n",
       "dtype: object"
      ]
     },
     "execution_count": 17,
     "metadata": {},
     "output_type": "execute_result"
    }
   ],
   "source": [
    "list_s"
   ]
  },
  {
   "cell_type": "code",
   "execution_count": 18,
   "metadata": {},
   "outputs": [
    {
     "data": {
      "text/plain": [
       "funny        Fooled by Randomness\n",
       "anthro                    Sapiens\n",
       "emotional         It Ends with Us\n",
       "dtype: object"
      ]
     },
     "execution_count": 18,
     "metadata": {},
     "output_type": "execute_result"
    }
   ],
   "source": [
    "pd.Series(data=books_list, index=['funny', 'anthro', 'emotional'], dtype='object')"
   ]
  },
  {
   "cell_type": "code",
   "execution_count": 19,
   "metadata": {},
   "outputs": [
    {
     "data": {
      "text/plain": [
       "'1.4.2'"
      ]
     },
     "execution_count": 19,
     "metadata": {},
     "output_type": "execute_result"
    }
   ],
   "source": [
    "pd.__version__\n",
    "\n",
    "# string dtype"
   ]
  },
  {
   "cell_type": "code",
   "execution_count": 20,
   "metadata": {},
   "outputs": [
    {
     "data": {
      "text/plain": [
       "funny        Fooled by Randomness\n",
       "anthro                    Sapiens\n",
       "emotional         It Ends with Us\n",
       "dtype: string"
      ]
     },
     "execution_count": 20,
     "metadata": {},
     "output_type": "execute_result"
    }
   ],
   "source": [
    "pd.Series(data=books_list, index=['funny', 'anthro', 'emotional'], dtype='string')"
   ]
  },
  {
   "cell_type": "code",
   "execution_count": 21,
   "metadata": {},
   "outputs": [
    {
     "data": {
      "text/plain": [
       "RangeIndex(start=0, stop=3, step=1)"
      ]
     },
     "execution_count": 21,
     "metadata": {},
     "output_type": "execute_result"
    },
    {
     "data": {
      "text/plain": [
       "pandas.core.indexes.range.RangeIndex"
      ]
     },
     "execution_count": 21,
     "metadata": {},
     "output_type": "execute_result"
    }
   ],
   "source": [
    "# RangeIndex: a builtin object that creates a series of integers with fixed\n",
    "# differences specified in its step parameter\n",
    "list_s.index\n",
    "type(list_s.index)"
   ]
  },
  {
   "cell_type": "code",
   "execution_count": 22,
   "metadata": {},
   "outputs": [
    {
     "data": {
      "text/plain": [
       "[5, 6, 7, 8]"
      ]
     },
     "execution_count": 22,
     "metadata": {},
     "output_type": "execute_result"
    },
    {
     "data": {
      "text/plain": [
       "[10, 8, 6, 4, 2, 0, -2, -4, -6, -8, -10]"
      ]
     },
     "execution_count": 22,
     "metadata": {},
     "output_type": "execute_result"
    }
   ],
   "source": [
    "# Lets access the Pandas RangeIndex\n",
    "list(pd.RangeIndex(start=5, stop=9, step=1))\n",
    "\n",
    "list(pd.RangeIndex(start=10, stop=-11, step=-2))"
   ]
  },
  {
   "cell_type": "code",
   "execution_count": 23,
   "metadata": {},
   "outputs": [],
   "source": [
    "# Why do we need a RangeIndex?\n",
    "# RangeIndex is an immutable object \n",
    "# When not specified, it defaults to integers"
   ]
  },
  {
   "cell_type": "code",
   "execution_count": 24,
   "metadata": {},
   "outputs": [
    {
     "data": {
      "text/plain": [
       "0    Fooled by Randomness\n",
       "1                 Sapiens\n",
       "2         It Ends with Us\n",
       "dtype: object"
      ]
     },
     "execution_count": 24,
     "metadata": {},
     "output_type": "execute_result"
    }
   ],
   "source": [
    "# Intelligble naming convensions \n",
    "\n",
    "books_series = list_s\n",
    "books_series"
   ]
  },
  {
   "cell_type": "code",
   "execution_count": 25,
   "metadata": {},
   "outputs": [
    {
     "data": {
      "text/plain": [
       "3"
      ]
     },
     "execution_count": 25,
     "metadata": {},
     "output_type": "execute_result"
    },
    {
     "data": {
      "text/plain": [
       "dtype('O')"
      ]
     },
     "execution_count": 25,
     "metadata": {},
     "output_type": "execute_result"
    },
    {
     "data": {
      "text/plain": [
       "True"
      ]
     },
     "execution_count": 25,
     "metadata": {},
     "output_type": "execute_result"
    }
   ],
   "source": [
    "# Attribute vs. method\n",
    "\n",
    "# An attribute is a property of the object - a variable bound to the object\n",
    "books_series.size \n",
    "books_series.dtype\n",
    "\n",
    "# Method is an action applied to an object - a fucntion bound to the object\n",
    "\n",
    "list_s.equals(dict_s)"
   ]
  },
  {
   "cell_type": "code",
   "execution_count": 26,
   "metadata": {},
   "outputs": [
    {
     "data": {
      "text/plain": [
       "'my favorite books'"
      ]
     },
     "execution_count": 26,
     "metadata": {},
     "output_type": "execute_result"
    },
    {
     "data": {
      "text/plain": [
       "0    Fooled by Randomness\n",
       "1                 Sapiens\n",
       "2         It Ends with Us\n",
       "Name: my favorite books, dtype: object"
      ]
     },
     "execution_count": 26,
     "metadata": {},
     "output_type": "execute_result"
    }
   ],
   "source": [
    "# The name attribute\n",
    "\n",
    "books_series.name = \"my favorite books\"\n",
    "books_series.name\n",
    "\n",
    "books_series\n",
    "\n",
    "# Why do we need the name attribute\n",
    "# Name of the series becomes column name in the dataframe"
   ]
  },
  {
   "cell_type": "code",
   "execution_count": 27,
   "metadata": {},
   "outputs": [
    {
     "data": {
      "text/plain": [
       "RangeIndex(start=0, stop=3, step=1)"
      ]
     },
     "execution_count": 27,
     "metadata": {},
     "output_type": "execute_result"
    },
    {
     "data": {
      "text/plain": [
       "'My Books'"
      ]
     },
     "execution_count": 27,
     "metadata": {},
     "output_type": "execute_result"
    }
   ],
   "source": [
    "books_series.index\n",
    "books_series.index.name\n",
    "\n",
    "books_series.index.name = 'My Books'\n",
    "\n",
    "books_series.index.name\n"
   ]
  },
  {
   "cell_type": "code",
   "execution_count": 28,
   "metadata": {},
   "outputs": [
    {
     "data": {
      "text/plain": [
       "['Sean Connery', 'Alia Bhatt', 'Meryl Streep', 'Morgan Freeman']"
      ]
     },
     "execution_count": 28,
     "metadata": {},
     "output_type": "execute_result"
    },
    {
     "data": {
      "text/plain": [
       "[90, 29, 72, 84]"
      ]
     },
     "execution_count": 28,
     "metadata": {},
     "output_type": "execute_result"
    },
    {
     "name": "stdout",
     "output_type": "stream",
     "text": [
      "Creating Series from data and index lists\n"
     ]
    },
    {
     "data": {
      "text/plain": [
       "Sean Connery      90\n",
       "Alia Bhatt        29\n",
       "Meryl Streep      72\n",
       "Morgan Freeman    84\n",
       "dtype: int64"
      ]
     },
     "execution_count": 28,
     "metadata": {},
     "output_type": "execute_result"
    },
    {
     "name": "stdout",
     "output_type": "stream",
     "text": [
      "Creating Series from dictionary\n"
     ]
    },
    {
     "data": {
      "text/plain": [
       "Sean Connery      90\n",
       "Alia Bhatt        29\n",
       "Meryl Streep      72\n",
       "Morgan Freeman    84\n",
       "dtype: int64"
      ]
     },
     "execution_count": 28,
     "metadata": {},
     "output_type": "execute_result"
    }
   ],
   "source": [
    "# Skills challenge \n",
    "\n",
    "# 1. Create a Python list of length 4 that contains some of your favorite actors. \n",
    "# So this should be a list of strings. \n",
    "# Call this list actor_names \n",
    "\n",
    "actor_names = ['Sean Connery', 'Alia Bhatt', 'Meryl Streep', 'Morgan Freeman']\n",
    "actor_names\n",
    "\n",
    "# 2. Next, create another python list of the same length that contains your guesses\n",
    "# for how old each actor is.\n",
    "# Feel free to use integers or floats\n",
    "# Call this list actor_ages\n",
    "\n",
    "actor_ages = [90, 29, 72, 84]\n",
    "actor_ages\n",
    "\n",
    "# 3. Create a series that stores actor ages using actor names. \n",
    "# To clarify, use actor name in the index and actor age as values\n",
    "# Name this series actors \n",
    "\n",
    "actors = pd.Series(data=actor_ages, index=actor_names, dtype=int)\n",
    "print (\"Creating Series from data and index lists\")\n",
    "actors\n",
    "\n",
    "# Bonus: Repeat step 3 but this time create series uing Python dictionary\n",
    "# Create dictionary dynamically using actor_names and actor_ages lists.\n",
    "\n",
    "actors_dict = dict(zip(actor_names, actor_ages))\n",
    "actors_series = pd.Series(actors_dict, dtype=int)\n",
    "print (\"Creating Series from dictionary\")\n",
    "actors_series\n",
    "\n",
    "# Another way\n",
    "\n",
    "actors_dict_2 = {name:age for name, age in zip(actor_names, actor_ages)}\n",
    "actors_series = pd.Series(actors_dict_2, dtype=int)"
   ]
  }
 ],
 "metadata": {
  "interpreter": {
   "hash": "aee8b7b246df8f9039afb4144a1f6fd8d2ca17a180786b69acc140d282b71a49"
  },
  "kernelspec": {
   "display_name": "Python 3.9.9 64-bit",
   "language": "python",
   "name": "python3"
  },
  "language_info": {
   "codemirror_mode": {
    "name": "ipython",
    "version": 3
   },
   "file_extension": ".py",
   "mimetype": "text/x-python",
   "name": "python",
   "nbconvert_exporter": "python",
   "pygments_lexer": "ipython3",
   "version": "3.9.9"
  },
  "orig_nbformat": 4
 },
 "nbformat": 4,
 "nbformat_minor": 2
}
